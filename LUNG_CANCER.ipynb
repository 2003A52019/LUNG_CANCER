{
  "nbformat": 4,
  "nbformat_minor": 0,
  "metadata": {
    "colab": {
      "provenance": [],
      "collapsed_sections": []
    },
    "kernelspec": {
      "name": "python3",
      "display_name": "Python 3"
    },
    "language_info": {
      "name": "python"
    }
  },
  "cells": [
    {
      "cell_type": "code",
      "execution_count": null,
      "metadata": {
        "id": "4TTZ_JLdI3T5"
      },
      "outputs": [],
      "source": [
        "import numpy as np\n",
        "import pandas as pd\n",
        "import matplotlib.pyplot as plt\n",
        "import seaborn as sns"
      ]
    },
    {
      "cell_type": "code",
      "source": [
        "#reading of data\n",
        "df = pd.read_csv(\"lung cancer.csv\")\n",
        "df.head()\n",
        "print(df)"
      ],
      "metadata": {
        "colab": {
          "base_uri": "https://localhost:8080/"
        },
        "id": "TTvdrv74MejS",
        "outputId": "1d0a91d0-ef1a-483b-c69b-018eadf1820e"
      },
      "execution_count": null,
      "outputs": [
        {
          "output_type": "stream",
          "name": "stdout",
          "text": [
            "    GENDER  AGE          smoking  YELLOW_FINGERS  ANXIETY  CHRONIC DISEASE  \\\n",
            "0        M   69  formerly smoked               2        2                1   \n",
            "1        M   74     never smoked               1        1                2   \n",
            "2        F   59           smokes               1        1                1   \n",
            "3        M   63     never smoked               2        2                1   \n",
            "4        F   63  formerly smoked               2        1                1   \n",
            "..     ...  ...              ...             ...      ...              ...   \n",
            "304      F   56     never smoked               1        1                2   \n",
            "305      M   70     never smoked               1        1                1   \n",
            "306      M   58     never smoked               1        1                1   \n",
            "307      M   67           smokes               1        2                1   \n",
            "308      M   62     never smoked               1        1                1   \n",
            "\n",
            "     ALLERGY   WHEEZING  ALCOHOL CONSUMING  COUGHING  SHORTNESS OF BREATH  \\\n",
            "0           1         2                  2         2                    2   \n",
            "1           2         1                  1         1                    2   \n",
            "2           1         2                  1         2                    2   \n",
            "3           1         1                  2         1                    1   \n",
            "4           1         2                  1         2                    2   \n",
            "..        ...       ...                ...       ...                  ...   \n",
            "304         1         1                  2         2                    2   \n",
            "305         2         2                  2         2                    2   \n",
            "306         2         2                  2         2                    1   \n",
            "307         2         1                  2         2                    2   \n",
            "308         2         2                  2         1                    1   \n",
            "\n",
            "     SWALLOWING DIFFICULTY  CHESTPAIN LUNG_CANCER  \n",
            "0                        2          2         YES  \n",
            "1                        2          2         YES  \n",
            "2                        1          2          NO  \n",
            "3                        2          2          NO  \n",
            "4                        1          1          NO  \n",
            "..                     ...        ...         ...  \n",
            "304                      2          1         YES  \n",
            "305                      1          2         YES  \n",
            "306                      1          2         YES  \n",
            "307                      1          2         YES  \n",
            "308                      2          1         YES  \n",
            "\n",
            "[309 rows x 14 columns]\n"
          ]
        }
      ]
    },
    {
      "cell_type": "code",
      "source": [
        "df.shape # no of rows and columns"
      ],
      "metadata": {
        "colab": {
          "base_uri": "https://localhost:8080/"
        },
        "id": "tpegowfvMkPh",
        "outputId": "15a1c5e4-111f-4abb-ee60-ad7988f3f873"
      },
      "execution_count": null,
      "outputs": [
        {
          "output_type": "execute_result",
          "data": {
            "text/plain": [
              "(309, 14)"
            ]
          },
          "metadata": {},
          "execution_count": 162
        }
      ]
    },
    {
      "cell_type": "code",
      "source": [
        "df.size #product of rows and columns"
      ],
      "metadata": {
        "colab": {
          "base_uri": "https://localhost:8080/"
        },
        "id": "0n4TgnleMuzg",
        "outputId": "7c03155e-e498-45ac-cb41-0d49eb5586eb"
      },
      "execution_count": null,
      "outputs": [
        {
          "output_type": "execute_result",
          "data": {
            "text/plain": [
              "4326"
            ]
          },
          "metadata": {},
          "execution_count": 163
        }
      ]
    },
    {
      "cell_type": "code",
      "source": [
        "df.sample(6) #displays random rows"
      ],
      "metadata": {
        "colab": {
          "base_uri": "https://localhost:8080/",
          "height": 316
        },
        "id": "mEQlg38QMw01",
        "outputId": "a349ac77-1aa6-4649-e5d8-ba95933bf8a2"
      },
      "execution_count": null,
      "outputs": [
        {
          "output_type": "execute_result",
          "data": {
            "text/plain": [
              "    GENDER  AGE          smoking  YELLOW_FINGERS  ANXIETY  CHRONIC DISEASE  \\\n",
              "156      M   47           smokes               2        1                2   \n",
              "39       M   60  formerly smoked               1        1                2   \n",
              "142      M   65     never smoked               2        2                1   \n",
              "131      F   61           smokes               2        2                1   \n",
              "228      F   56     never smoked               2        1                1   \n",
              "161      M   62          Unknown               2        2                2   \n",
              "\n",
              "     ALLERGY   WHEEZING  ALCOHOL CONSUMING  COUGHING  SHORTNESS OF BREATH  \\\n",
              "156         1         1                  1         1                    1   \n",
              "39          2         2                  2         2                    1   \n",
              "142         2         1                  1         1                    2   \n",
              "131         2         2                  1         2                    1   \n",
              "228         1         1                  1         2                    2   \n",
              "161         2         2                  1         1                    2   \n",
              "\n",
              "     SWALLOWING DIFFICULTY  CHESTPAIN LUNG_CANCER  \n",
              "156                      1          2          NO  \n",
              "39                       1          2         YES  \n",
              "142                      2          1         YES  \n",
              "131                      2          1         YES  \n",
              "228                      1          2         YES  \n",
              "161                      1          1         YES  "
            ],
            "text/html": [
              "\n",
              "  <div id=\"df-7c5181a6-2010-4e96-89c2-5bed8b03a96d\">\n",
              "    <div class=\"colab-df-container\">\n",
              "      <div>\n",
              "<style scoped>\n",
              "    .dataframe tbody tr th:only-of-type {\n",
              "        vertical-align: middle;\n",
              "    }\n",
              "\n",
              "    .dataframe tbody tr th {\n",
              "        vertical-align: top;\n",
              "    }\n",
              "\n",
              "    .dataframe thead th {\n",
              "        text-align: right;\n",
              "    }\n",
              "</style>\n",
              "<table border=\"1\" class=\"dataframe\">\n",
              "  <thead>\n",
              "    <tr style=\"text-align: right;\">\n",
              "      <th></th>\n",
              "      <th>GENDER</th>\n",
              "      <th>AGE</th>\n",
              "      <th>smoking</th>\n",
              "      <th>YELLOW_FINGERS</th>\n",
              "      <th>ANXIETY</th>\n",
              "      <th>CHRONIC DISEASE</th>\n",
              "      <th>ALLERGY</th>\n",
              "      <th>WHEEZING</th>\n",
              "      <th>ALCOHOL CONSUMING</th>\n",
              "      <th>COUGHING</th>\n",
              "      <th>SHORTNESS OF BREATH</th>\n",
              "      <th>SWALLOWING DIFFICULTY</th>\n",
              "      <th>CHESTPAIN</th>\n",
              "      <th>LUNG_CANCER</th>\n",
              "    </tr>\n",
              "  </thead>\n",
              "  <tbody>\n",
              "    <tr>\n",
              "      <th>156</th>\n",
              "      <td>M</td>\n",
              "      <td>47</td>\n",
              "      <td>smokes</td>\n",
              "      <td>2</td>\n",
              "      <td>1</td>\n",
              "      <td>2</td>\n",
              "      <td>1</td>\n",
              "      <td>1</td>\n",
              "      <td>1</td>\n",
              "      <td>1</td>\n",
              "      <td>1</td>\n",
              "      <td>1</td>\n",
              "      <td>2</td>\n",
              "      <td>NO</td>\n",
              "    </tr>\n",
              "    <tr>\n",
              "      <th>39</th>\n",
              "      <td>M</td>\n",
              "      <td>60</td>\n",
              "      <td>formerly smoked</td>\n",
              "      <td>1</td>\n",
              "      <td>1</td>\n",
              "      <td>2</td>\n",
              "      <td>2</td>\n",
              "      <td>2</td>\n",
              "      <td>2</td>\n",
              "      <td>2</td>\n",
              "      <td>1</td>\n",
              "      <td>1</td>\n",
              "      <td>2</td>\n",
              "      <td>YES</td>\n",
              "    </tr>\n",
              "    <tr>\n",
              "      <th>142</th>\n",
              "      <td>M</td>\n",
              "      <td>65</td>\n",
              "      <td>never smoked</td>\n",
              "      <td>2</td>\n",
              "      <td>2</td>\n",
              "      <td>1</td>\n",
              "      <td>2</td>\n",
              "      <td>1</td>\n",
              "      <td>1</td>\n",
              "      <td>1</td>\n",
              "      <td>2</td>\n",
              "      <td>2</td>\n",
              "      <td>1</td>\n",
              "      <td>YES</td>\n",
              "    </tr>\n",
              "    <tr>\n",
              "      <th>131</th>\n",
              "      <td>F</td>\n",
              "      <td>61</td>\n",
              "      <td>smokes</td>\n",
              "      <td>2</td>\n",
              "      <td>2</td>\n",
              "      <td>1</td>\n",
              "      <td>2</td>\n",
              "      <td>2</td>\n",
              "      <td>1</td>\n",
              "      <td>2</td>\n",
              "      <td>1</td>\n",
              "      <td>2</td>\n",
              "      <td>1</td>\n",
              "      <td>YES</td>\n",
              "    </tr>\n",
              "    <tr>\n",
              "      <th>228</th>\n",
              "      <td>F</td>\n",
              "      <td>56</td>\n",
              "      <td>never smoked</td>\n",
              "      <td>2</td>\n",
              "      <td>1</td>\n",
              "      <td>1</td>\n",
              "      <td>1</td>\n",
              "      <td>1</td>\n",
              "      <td>1</td>\n",
              "      <td>2</td>\n",
              "      <td>2</td>\n",
              "      <td>1</td>\n",
              "      <td>2</td>\n",
              "      <td>YES</td>\n",
              "    </tr>\n",
              "    <tr>\n",
              "      <th>161</th>\n",
              "      <td>M</td>\n",
              "      <td>62</td>\n",
              "      <td>Unknown</td>\n",
              "      <td>2</td>\n",
              "      <td>2</td>\n",
              "      <td>2</td>\n",
              "      <td>2</td>\n",
              "      <td>2</td>\n",
              "      <td>1</td>\n",
              "      <td>1</td>\n",
              "      <td>2</td>\n",
              "      <td>1</td>\n",
              "      <td>1</td>\n",
              "      <td>YES</td>\n",
              "    </tr>\n",
              "  </tbody>\n",
              "</table>\n",
              "</div>\n",
              "      <button class=\"colab-df-convert\" onclick=\"convertToInteractive('df-7c5181a6-2010-4e96-89c2-5bed8b03a96d')\"\n",
              "              title=\"Convert this dataframe to an interactive table.\"\n",
              "              style=\"display:none;\">\n",
              "        \n",
              "  <svg xmlns=\"http://www.w3.org/2000/svg\" height=\"24px\"viewBox=\"0 0 24 24\"\n",
              "       width=\"24px\">\n",
              "    <path d=\"M0 0h24v24H0V0z\" fill=\"none\"/>\n",
              "    <path d=\"M18.56 5.44l.94 2.06.94-2.06 2.06-.94-2.06-.94-.94-2.06-.94 2.06-2.06.94zm-11 1L8.5 8.5l.94-2.06 2.06-.94-2.06-.94L8.5 2.5l-.94 2.06-2.06.94zm10 10l.94 2.06.94-2.06 2.06-.94-2.06-.94-.94-2.06-.94 2.06-2.06.94z\"/><path d=\"M17.41 7.96l-1.37-1.37c-.4-.4-.92-.59-1.43-.59-.52 0-1.04.2-1.43.59L10.3 9.45l-7.72 7.72c-.78.78-.78 2.05 0 2.83L4 21.41c.39.39.9.59 1.41.59.51 0 1.02-.2 1.41-.59l7.78-7.78 2.81-2.81c.8-.78.8-2.07 0-2.86zM5.41 20L4 18.59l7.72-7.72 1.47 1.35L5.41 20z\"/>\n",
              "  </svg>\n",
              "      </button>\n",
              "      \n",
              "  <style>\n",
              "    .colab-df-container {\n",
              "      display:flex;\n",
              "      flex-wrap:wrap;\n",
              "      gap: 12px;\n",
              "    }\n",
              "\n",
              "    .colab-df-convert {\n",
              "      background-color: #E8F0FE;\n",
              "      border: none;\n",
              "      border-radius: 50%;\n",
              "      cursor: pointer;\n",
              "      display: none;\n",
              "      fill: #1967D2;\n",
              "      height: 32px;\n",
              "      padding: 0 0 0 0;\n",
              "      width: 32px;\n",
              "    }\n",
              "\n",
              "    .colab-df-convert:hover {\n",
              "      background-color: #E2EBFA;\n",
              "      box-shadow: 0px 1px 2px rgba(60, 64, 67, 0.3), 0px 1px 3px 1px rgba(60, 64, 67, 0.15);\n",
              "      fill: #174EA6;\n",
              "    }\n",
              "\n",
              "    [theme=dark] .colab-df-convert {\n",
              "      background-color: #3B4455;\n",
              "      fill: #D2E3FC;\n",
              "    }\n",
              "\n",
              "    [theme=dark] .colab-df-convert:hover {\n",
              "      background-color: #434B5C;\n",
              "      box-shadow: 0px 1px 3px 1px rgba(0, 0, 0, 0.15);\n",
              "      filter: drop-shadow(0px 1px 2px rgba(0, 0, 0, 0.3));\n",
              "      fill: #FFFFFF;\n",
              "    }\n",
              "  </style>\n",
              "\n",
              "      <script>\n",
              "        const buttonEl =\n",
              "          document.querySelector('#df-7c5181a6-2010-4e96-89c2-5bed8b03a96d button.colab-df-convert');\n",
              "        buttonEl.style.display =\n",
              "          google.colab.kernel.accessAllowed ? 'block' : 'none';\n",
              "\n",
              "        async function convertToInteractive(key) {\n",
              "          const element = document.querySelector('#df-7c5181a6-2010-4e96-89c2-5bed8b03a96d');\n",
              "          const dataTable =\n",
              "            await google.colab.kernel.invokeFunction('convertToInteractive',\n",
              "                                                     [key], {});\n",
              "          if (!dataTable) return;\n",
              "\n",
              "          const docLinkHtml = 'Like what you see? Visit the ' +\n",
              "            '<a target=\"_blank\" href=https://colab.research.google.com/notebooks/data_table.ipynb>data table notebook</a>'\n",
              "            + ' to learn more about interactive tables.';\n",
              "          element.innerHTML = '';\n",
              "          dataTable['output_type'] = 'display_data';\n",
              "          await google.colab.output.renderOutput(dataTable, element);\n",
              "          const docLink = document.createElement('div');\n",
              "          docLink.innerHTML = docLinkHtml;\n",
              "          element.appendChild(docLink);\n",
              "        }\n",
              "      </script>\n",
              "    </div>\n",
              "  </div>\n",
              "  "
            ]
          },
          "metadata": {},
          "execution_count": 164
        }
      ]
    },
    {
      "cell_type": "code",
      "source": [
        "df.columns #displays how many columns in dataset"
      ],
      "metadata": {
        "colab": {
          "base_uri": "https://localhost:8080/"
        },
        "id": "W0dfATgAM2wH",
        "outputId": "7b3e87ca-bef6-42f9-eac3-efa250db34da"
      },
      "execution_count": null,
      "outputs": [
        {
          "output_type": "execute_result",
          "data": {
            "text/plain": [
              "Index(['GENDER', 'AGE', 'smoking', 'YELLOW_FINGERS', 'ANXIETY',\n",
              "       'CHRONIC DISEASE', 'ALLERGY ', 'WHEEZING', 'ALCOHOL CONSUMING',\n",
              "       'COUGHING', 'SHORTNESS OF BREATH', 'SWALLOWING DIFFICULTY', 'CHESTPAIN',\n",
              "       'LUNG_CANCER'],\n",
              "      dtype='object')"
            ]
          },
          "metadata": {},
          "execution_count": 165
        }
      ]
    },
    {
      "cell_type": "code",
      "source": [
        "df.info() #data description about columns"
      ],
      "metadata": {
        "colab": {
          "base_uri": "https://localhost:8080/"
        },
        "id": "QOifjzSOM6r9",
        "outputId": "dc44495b-51fa-427a-cc59-51c6b00ee6c6"
      },
      "execution_count": null,
      "outputs": [
        {
          "output_type": "stream",
          "name": "stdout",
          "text": [
            "<class 'pandas.core.frame.DataFrame'>\n",
            "RangeIndex: 309 entries, 0 to 308\n",
            "Data columns (total 14 columns):\n",
            " #   Column                 Non-Null Count  Dtype \n",
            "---  ------                 --------------  ----- \n",
            " 0   GENDER                 309 non-null    object\n",
            " 1   AGE                    309 non-null    int64 \n",
            " 2   smoking                309 non-null    object\n",
            " 3   YELLOW_FINGERS         309 non-null    int64 \n",
            " 4   ANXIETY                309 non-null    int64 \n",
            " 5   CHRONIC DISEASE        309 non-null    int64 \n",
            " 6   ALLERGY                309 non-null    int64 \n",
            " 7   WHEEZING               309 non-null    int64 \n",
            " 8   ALCOHOL CONSUMING      309 non-null    int64 \n",
            " 9   COUGHING               309 non-null    int64 \n",
            " 10  SHORTNESS OF BREATH    309 non-null    int64 \n",
            " 11  SWALLOWING DIFFICULTY  309 non-null    int64 \n",
            " 12  CHESTPAIN              309 non-null    int64 \n",
            " 13  LUNG_CANCER            309 non-null    object\n",
            "dtypes: int64(11), object(3)\n",
            "memory usage: 33.9+ KB\n"
          ]
        }
      ]
    },
    {
      "cell_type": "code",
      "source": [
        "df.describe() #statistical summary report"
      ],
      "metadata": {
        "colab": {
          "base_uri": "https://localhost:8080/",
          "height": 300
        },
        "id": "fJxzDyyBM_Ru",
        "outputId": "9e99a49c-ba84-4708-d841-11e8ce2939da"
      },
      "execution_count": null,
      "outputs": [
        {
          "output_type": "execute_result",
          "data": {
            "text/plain": [
              "              AGE  YELLOW_FINGERS     ANXIETY  CHRONIC DISEASE    ALLERGY   \\\n",
              "count  309.000000      309.000000  309.000000       309.000000  309.000000   \n",
              "mean    62.673139        1.569579    1.498382         1.504854    1.556634   \n",
              "std      8.210301        0.495938    0.500808         0.500787    0.497588   \n",
              "min     21.000000        1.000000    1.000000         1.000000    1.000000   \n",
              "25%     57.000000        1.000000    1.000000         1.000000    1.000000   \n",
              "50%     62.000000        2.000000    1.000000         2.000000    2.000000   \n",
              "75%     69.000000        2.000000    2.000000         2.000000    2.000000   \n",
              "max     87.000000        2.000000    2.000000         2.000000    2.000000   \n",
              "\n",
              "         WHEEZING  ALCOHOL CONSUMING    COUGHING  SHORTNESS OF BREATH  \\\n",
              "count  309.000000         309.000000  309.000000           309.000000   \n",
              "mean     1.556634           1.556634    1.579288             1.640777   \n",
              "std      0.497588           0.497588    0.494474             0.480551   \n",
              "min      1.000000           1.000000    1.000000             1.000000   \n",
              "25%      1.000000           1.000000    1.000000             1.000000   \n",
              "50%      2.000000           2.000000    2.000000             2.000000   \n",
              "75%      2.000000           2.000000    2.000000             2.000000   \n",
              "max      2.000000           2.000000    2.000000             2.000000   \n",
              "\n",
              "       SWALLOWING DIFFICULTY   CHESTPAIN  \n",
              "count             309.000000  309.000000  \n",
              "mean                1.469256    1.556634  \n",
              "std                 0.499863    0.497588  \n",
              "min                 1.000000    1.000000  \n",
              "25%                 1.000000    1.000000  \n",
              "50%                 1.000000    2.000000  \n",
              "75%                 2.000000    2.000000  \n",
              "max                 2.000000    2.000000  "
            ],
            "text/html": [
              "\n",
              "  <div id=\"df-4961ba3a-5148-41e4-a832-8b78ba093093\">\n",
              "    <div class=\"colab-df-container\">\n",
              "      <div>\n",
              "<style scoped>\n",
              "    .dataframe tbody tr th:only-of-type {\n",
              "        vertical-align: middle;\n",
              "    }\n",
              "\n",
              "    .dataframe tbody tr th {\n",
              "        vertical-align: top;\n",
              "    }\n",
              "\n",
              "    .dataframe thead th {\n",
              "        text-align: right;\n",
              "    }\n",
              "</style>\n",
              "<table border=\"1\" class=\"dataframe\">\n",
              "  <thead>\n",
              "    <tr style=\"text-align: right;\">\n",
              "      <th></th>\n",
              "      <th>AGE</th>\n",
              "      <th>YELLOW_FINGERS</th>\n",
              "      <th>ANXIETY</th>\n",
              "      <th>CHRONIC DISEASE</th>\n",
              "      <th>ALLERGY</th>\n",
              "      <th>WHEEZING</th>\n",
              "      <th>ALCOHOL CONSUMING</th>\n",
              "      <th>COUGHING</th>\n",
              "      <th>SHORTNESS OF BREATH</th>\n",
              "      <th>SWALLOWING DIFFICULTY</th>\n",
              "      <th>CHESTPAIN</th>\n",
              "    </tr>\n",
              "  </thead>\n",
              "  <tbody>\n",
              "    <tr>\n",
              "      <th>count</th>\n",
              "      <td>309.000000</td>\n",
              "      <td>309.000000</td>\n",
              "      <td>309.000000</td>\n",
              "      <td>309.000000</td>\n",
              "      <td>309.000000</td>\n",
              "      <td>309.000000</td>\n",
              "      <td>309.000000</td>\n",
              "      <td>309.000000</td>\n",
              "      <td>309.000000</td>\n",
              "      <td>309.000000</td>\n",
              "      <td>309.000000</td>\n",
              "    </tr>\n",
              "    <tr>\n",
              "      <th>mean</th>\n",
              "      <td>62.673139</td>\n",
              "      <td>1.569579</td>\n",
              "      <td>1.498382</td>\n",
              "      <td>1.504854</td>\n",
              "      <td>1.556634</td>\n",
              "      <td>1.556634</td>\n",
              "      <td>1.556634</td>\n",
              "      <td>1.579288</td>\n",
              "      <td>1.640777</td>\n",
              "      <td>1.469256</td>\n",
              "      <td>1.556634</td>\n",
              "    </tr>\n",
              "    <tr>\n",
              "      <th>std</th>\n",
              "      <td>8.210301</td>\n",
              "      <td>0.495938</td>\n",
              "      <td>0.500808</td>\n",
              "      <td>0.500787</td>\n",
              "      <td>0.497588</td>\n",
              "      <td>0.497588</td>\n",
              "      <td>0.497588</td>\n",
              "      <td>0.494474</td>\n",
              "      <td>0.480551</td>\n",
              "      <td>0.499863</td>\n",
              "      <td>0.497588</td>\n",
              "    </tr>\n",
              "    <tr>\n",
              "      <th>min</th>\n",
              "      <td>21.000000</td>\n",
              "      <td>1.000000</td>\n",
              "      <td>1.000000</td>\n",
              "      <td>1.000000</td>\n",
              "      <td>1.000000</td>\n",
              "      <td>1.000000</td>\n",
              "      <td>1.000000</td>\n",
              "      <td>1.000000</td>\n",
              "      <td>1.000000</td>\n",
              "      <td>1.000000</td>\n",
              "      <td>1.000000</td>\n",
              "    </tr>\n",
              "    <tr>\n",
              "      <th>25%</th>\n",
              "      <td>57.000000</td>\n",
              "      <td>1.000000</td>\n",
              "      <td>1.000000</td>\n",
              "      <td>1.000000</td>\n",
              "      <td>1.000000</td>\n",
              "      <td>1.000000</td>\n",
              "      <td>1.000000</td>\n",
              "      <td>1.000000</td>\n",
              "      <td>1.000000</td>\n",
              "      <td>1.000000</td>\n",
              "      <td>1.000000</td>\n",
              "    </tr>\n",
              "    <tr>\n",
              "      <th>50%</th>\n",
              "      <td>62.000000</td>\n",
              "      <td>2.000000</td>\n",
              "      <td>1.000000</td>\n",
              "      <td>2.000000</td>\n",
              "      <td>2.000000</td>\n",
              "      <td>2.000000</td>\n",
              "      <td>2.000000</td>\n",
              "      <td>2.000000</td>\n",
              "      <td>2.000000</td>\n",
              "      <td>1.000000</td>\n",
              "      <td>2.000000</td>\n",
              "    </tr>\n",
              "    <tr>\n",
              "      <th>75%</th>\n",
              "      <td>69.000000</td>\n",
              "      <td>2.000000</td>\n",
              "      <td>2.000000</td>\n",
              "      <td>2.000000</td>\n",
              "      <td>2.000000</td>\n",
              "      <td>2.000000</td>\n",
              "      <td>2.000000</td>\n",
              "      <td>2.000000</td>\n",
              "      <td>2.000000</td>\n",
              "      <td>2.000000</td>\n",
              "      <td>2.000000</td>\n",
              "    </tr>\n",
              "    <tr>\n",
              "      <th>max</th>\n",
              "      <td>87.000000</td>\n",
              "      <td>2.000000</td>\n",
              "      <td>2.000000</td>\n",
              "      <td>2.000000</td>\n",
              "      <td>2.000000</td>\n",
              "      <td>2.000000</td>\n",
              "      <td>2.000000</td>\n",
              "      <td>2.000000</td>\n",
              "      <td>2.000000</td>\n",
              "      <td>2.000000</td>\n",
              "      <td>2.000000</td>\n",
              "    </tr>\n",
              "  </tbody>\n",
              "</table>\n",
              "</div>\n",
              "      <button class=\"colab-df-convert\" onclick=\"convertToInteractive('df-4961ba3a-5148-41e4-a832-8b78ba093093')\"\n",
              "              title=\"Convert this dataframe to an interactive table.\"\n",
              "              style=\"display:none;\">\n",
              "        \n",
              "  <svg xmlns=\"http://www.w3.org/2000/svg\" height=\"24px\"viewBox=\"0 0 24 24\"\n",
              "       width=\"24px\">\n",
              "    <path d=\"M0 0h24v24H0V0z\" fill=\"none\"/>\n",
              "    <path d=\"M18.56 5.44l.94 2.06.94-2.06 2.06-.94-2.06-.94-.94-2.06-.94 2.06-2.06.94zm-11 1L8.5 8.5l.94-2.06 2.06-.94-2.06-.94L8.5 2.5l-.94 2.06-2.06.94zm10 10l.94 2.06.94-2.06 2.06-.94-2.06-.94-.94-2.06-.94 2.06-2.06.94z\"/><path d=\"M17.41 7.96l-1.37-1.37c-.4-.4-.92-.59-1.43-.59-.52 0-1.04.2-1.43.59L10.3 9.45l-7.72 7.72c-.78.78-.78 2.05 0 2.83L4 21.41c.39.39.9.59 1.41.59.51 0 1.02-.2 1.41-.59l7.78-7.78 2.81-2.81c.8-.78.8-2.07 0-2.86zM5.41 20L4 18.59l7.72-7.72 1.47 1.35L5.41 20z\"/>\n",
              "  </svg>\n",
              "      </button>\n",
              "      \n",
              "  <style>\n",
              "    .colab-df-container {\n",
              "      display:flex;\n",
              "      flex-wrap:wrap;\n",
              "      gap: 12px;\n",
              "    }\n",
              "\n",
              "    .colab-df-convert {\n",
              "      background-color: #E8F0FE;\n",
              "      border: none;\n",
              "      border-radius: 50%;\n",
              "      cursor: pointer;\n",
              "      display: none;\n",
              "      fill: #1967D2;\n",
              "      height: 32px;\n",
              "      padding: 0 0 0 0;\n",
              "      width: 32px;\n",
              "    }\n",
              "\n",
              "    .colab-df-convert:hover {\n",
              "      background-color: #E2EBFA;\n",
              "      box-shadow: 0px 1px 2px rgba(60, 64, 67, 0.3), 0px 1px 3px 1px rgba(60, 64, 67, 0.15);\n",
              "      fill: #174EA6;\n",
              "    }\n",
              "\n",
              "    [theme=dark] .colab-df-convert {\n",
              "      background-color: #3B4455;\n",
              "      fill: #D2E3FC;\n",
              "    }\n",
              "\n",
              "    [theme=dark] .colab-df-convert:hover {\n",
              "      background-color: #434B5C;\n",
              "      box-shadow: 0px 1px 3px 1px rgba(0, 0, 0, 0.15);\n",
              "      filter: drop-shadow(0px 1px 2px rgba(0, 0, 0, 0.3));\n",
              "      fill: #FFFFFF;\n",
              "    }\n",
              "  </style>\n",
              "\n",
              "      <script>\n",
              "        const buttonEl =\n",
              "          document.querySelector('#df-4961ba3a-5148-41e4-a832-8b78ba093093 button.colab-df-convert');\n",
              "        buttonEl.style.display =\n",
              "          google.colab.kernel.accessAllowed ? 'block' : 'none';\n",
              "\n",
              "        async function convertToInteractive(key) {\n",
              "          const element = document.querySelector('#df-4961ba3a-5148-41e4-a832-8b78ba093093');\n",
              "          const dataTable =\n",
              "            await google.colab.kernel.invokeFunction('convertToInteractive',\n",
              "                                                     [key], {});\n",
              "          if (!dataTable) return;\n",
              "\n",
              "          const docLinkHtml = 'Like what you see? Visit the ' +\n",
              "            '<a target=\"_blank\" href=https://colab.research.google.com/notebooks/data_table.ipynb>data table notebook</a>'\n",
              "            + ' to learn more about interactive tables.';\n",
              "          element.innerHTML = '';\n",
              "          dataTable['output_type'] = 'display_data';\n",
              "          await google.colab.output.renderOutput(dataTable, element);\n",
              "          const docLink = document.createElement('div');\n",
              "          docLink.innerHTML = docLinkHtml;\n",
              "          element.appendChild(docLink);\n",
              "        }\n",
              "      </script>\n",
              "    </div>\n",
              "  </div>\n",
              "  "
            ]
          },
          "metadata": {},
          "execution_count": 167
        }
      ]
    },
    {
      "cell_type": "code",
      "source": [
        "df.ndim #find or return the dimension of given array"
      ],
      "metadata": {
        "colab": {
          "base_uri": "https://localhost:8080/"
        },
        "id": "rYPYc8mjNG2I",
        "outputId": "35d9af2e-d896-44cb-c8b5-db872e57a572"
      },
      "execution_count": null,
      "outputs": [
        {
          "output_type": "execute_result",
          "data": {
            "text/plain": [
              "2"
            ]
          },
          "metadata": {},
          "execution_count": 168
        }
      ]
    },
    {
      "cell_type": "code",
      "source": [
        "df.nunique()  #returns number of unique value for each column"
      ],
      "metadata": {
        "colab": {
          "base_uri": "https://localhost:8080/"
        },
        "id": "KrpnkROwNKVK",
        "outputId": "a56edce6-6fa5-4fdf-bd6d-d9e5b4930455"
      },
      "execution_count": null,
      "outputs": [
        {
          "output_type": "execute_result",
          "data": {
            "text/plain": [
              "GENDER                    2\n",
              "AGE                      39\n",
              "smoking                   4\n",
              "YELLOW_FINGERS            2\n",
              "ANXIETY                   2\n",
              "CHRONIC DISEASE           2\n",
              "ALLERGY                   2\n",
              "WHEEZING                  2\n",
              "ALCOHOL CONSUMING         2\n",
              "COUGHING                  2\n",
              "SHORTNESS OF BREATH       2\n",
              "SWALLOWING DIFFICULTY     2\n",
              "CHESTPAIN                 2\n",
              "LUNG_CANCER               2\n",
              "dtype: int64"
            ]
          },
          "metadata": {},
          "execution_count": 169
        }
      ]
    },
    {
      "cell_type": "code",
      "source": [
        "df.duplicated() #it find outs the dupilcated values if duplicated value "
      ],
      "metadata": {
        "colab": {
          "base_uri": "https://localhost:8080/"
        },
        "id": "SSUKz7sTNRPs",
        "outputId": "57934887-9976-4eb9-eee3-99ae9ecd2b2b"
      },
      "execution_count": null,
      "outputs": [
        {
          "output_type": "execute_result",
          "data": {
            "text/plain": [
              "0      False\n",
              "1      False\n",
              "2      False\n",
              "3      False\n",
              "4      False\n",
              "       ...  \n",
              "304    False\n",
              "305    False\n",
              "306    False\n",
              "307    False\n",
              "308    False\n",
              "Length: 309, dtype: bool"
            ]
          },
          "metadata": {},
          "execution_count": 170
        }
      ]
    },
    {
      "cell_type": "code",
      "source": [
        "df.dtypes"
      ],
      "metadata": {
        "colab": {
          "base_uri": "https://localhost:8080/"
        },
        "id": "9XoXoLjpNV4j",
        "outputId": "a13a9685-075d-4ae9-ecca-8e44595e73b9"
      },
      "execution_count": null,
      "outputs": [
        {
          "output_type": "execute_result",
          "data": {
            "text/plain": [
              "GENDER                   object\n",
              "AGE                       int64\n",
              "smoking                  object\n",
              "YELLOW_FINGERS            int64\n",
              "ANXIETY                   int64\n",
              "CHRONIC DISEASE           int64\n",
              "ALLERGY                   int64\n",
              "WHEEZING                  int64\n",
              "ALCOHOL CONSUMING         int64\n",
              "COUGHING                  int64\n",
              "SHORTNESS OF BREATH       int64\n",
              "SWALLOWING DIFFICULTY     int64\n",
              "CHESTPAIN                 int64\n",
              "LUNG_CANCER              object\n",
              "dtype: object"
            ]
          },
          "metadata": {},
          "execution_count": 171
        }
      ]
    },
    {
      "cell_type": "code",
      "source": [
        "df.count()"
      ],
      "metadata": {
        "colab": {
          "base_uri": "https://localhost:8080/"
        },
        "id": "WcV_xWUONalE",
        "outputId": "cf8d3dff-8562-437b-8bd5-2daadbced3cd"
      },
      "execution_count": null,
      "outputs": [
        {
          "output_type": "execute_result",
          "data": {
            "text/plain": [
              "GENDER                   309\n",
              "AGE                      309\n",
              "smoking                  309\n",
              "YELLOW_FINGERS           309\n",
              "ANXIETY                  309\n",
              "CHRONIC DISEASE          309\n",
              "ALLERGY                  309\n",
              "WHEEZING                 309\n",
              "ALCOHOL CONSUMING        309\n",
              "COUGHING                 309\n",
              "SHORTNESS OF BREATH      309\n",
              "SWALLOWING DIFFICULTY    309\n",
              "CHESTPAIN                309\n",
              "LUNG_CANCER              309\n",
              "dtype: int64"
            ]
          },
          "metadata": {},
          "execution_count": 172
        }
      ]
    },
    {
      "cell_type": "code",
      "source": [
        "df.mean()"
      ],
      "metadata": {
        "colab": {
          "base_uri": "https://localhost:8080/"
        },
        "id": "0hLdf0_nNfSV",
        "outputId": "9d03ff5b-83d7-4fe7-e43b-8eddc3b13fcb"
      },
      "execution_count": null,
      "outputs": [
        {
          "output_type": "stream",
          "name": "stderr",
          "text": [
            "/usr/local/lib/python3.7/dist-packages/ipykernel_launcher.py:1: FutureWarning: Dropping of nuisance columns in DataFrame reductions (with 'numeric_only=None') is deprecated; in a future version this will raise TypeError.  Select only valid columns before calling the reduction.\n",
            "  \"\"\"Entry point for launching an IPython kernel.\n"
          ]
        },
        {
          "output_type": "execute_result",
          "data": {
            "text/plain": [
              "AGE                      62.673139\n",
              "YELLOW_FINGERS            1.569579\n",
              "ANXIETY                   1.498382\n",
              "CHRONIC DISEASE           1.504854\n",
              "ALLERGY                   1.556634\n",
              "WHEEZING                  1.556634\n",
              "ALCOHOL CONSUMING         1.556634\n",
              "COUGHING                  1.579288\n",
              "SHORTNESS OF BREATH       1.640777\n",
              "SWALLOWING DIFFICULTY     1.469256\n",
              "CHESTPAIN                 1.556634\n",
              "dtype: float64"
            ]
          },
          "metadata": {},
          "execution_count": 173
        }
      ]
    },
    {
      "cell_type": "code",
      "source": [
        "df.median()"
      ],
      "metadata": {
        "colab": {
          "base_uri": "https://localhost:8080/"
        },
        "id": "tqJ8DIayNi7q",
        "outputId": "17cbd709-cd31-49f0-f566-98b9426843c1"
      },
      "execution_count": null,
      "outputs": [
        {
          "output_type": "stream",
          "name": "stderr",
          "text": [
            "/usr/local/lib/python3.7/dist-packages/ipykernel_launcher.py:1: FutureWarning: Dropping of nuisance columns in DataFrame reductions (with 'numeric_only=None') is deprecated; in a future version this will raise TypeError.  Select only valid columns before calling the reduction.\n",
            "  \"\"\"Entry point for launching an IPython kernel.\n"
          ]
        },
        {
          "output_type": "execute_result",
          "data": {
            "text/plain": [
              "AGE                      62.0\n",
              "YELLOW_FINGERS            2.0\n",
              "ANXIETY                   1.0\n",
              "CHRONIC DISEASE           2.0\n",
              "ALLERGY                   2.0\n",
              "WHEEZING                  2.0\n",
              "ALCOHOL CONSUMING         2.0\n",
              "COUGHING                  2.0\n",
              "SHORTNESS OF BREATH       2.0\n",
              "SWALLOWING DIFFICULTY     1.0\n",
              "CHESTPAIN                 2.0\n",
              "dtype: float64"
            ]
          },
          "metadata": {},
          "execution_count": 174
        }
      ]
    },
    {
      "cell_type": "code",
      "source": [
        "df.std()"
      ],
      "metadata": {
        "colab": {
          "base_uri": "https://localhost:8080/"
        },
        "id": "pIUbF4H1Nmmq",
        "outputId": "322e1cae-3f80-4176-e5ba-f8dc66b8a068"
      },
      "execution_count": null,
      "outputs": [
        {
          "output_type": "stream",
          "name": "stderr",
          "text": [
            "/usr/local/lib/python3.7/dist-packages/ipykernel_launcher.py:1: FutureWarning: Dropping of nuisance columns in DataFrame reductions (with 'numeric_only=None') is deprecated; in a future version this will raise TypeError.  Select only valid columns before calling the reduction.\n",
            "  \"\"\"Entry point for launching an IPython kernel.\n"
          ]
        },
        {
          "output_type": "execute_result",
          "data": {
            "text/plain": [
              "AGE                      8.210301\n",
              "YELLOW_FINGERS           0.495938\n",
              "ANXIETY                  0.500808\n",
              "CHRONIC DISEASE          0.500787\n",
              "ALLERGY                  0.497588\n",
              "WHEEZING                 0.497588\n",
              "ALCOHOL CONSUMING        0.497588\n",
              "COUGHING                 0.494474\n",
              "SHORTNESS OF BREATH      0.480551\n",
              "SWALLOWING DIFFICULTY    0.499863\n",
              "CHESTPAIN                0.497588\n",
              "dtype: float64"
            ]
          },
          "metadata": {},
          "execution_count": 175
        }
      ]
    },
    {
      "cell_type": "code",
      "source": [
        "df.corr()"
      ],
      "metadata": {
        "colab": {
          "base_uri": "https://localhost:8080/",
          "height": 438
        },
        "id": "i1sVJguJNrmA",
        "outputId": "88369f8f-c010-4e60-8b2b-83a7a2784186"
      },
      "execution_count": null,
      "outputs": [
        {
          "output_type": "execute_result",
          "data": {
            "text/plain": [
              "                            AGE  YELLOW_FINGERS   ANXIETY  CHRONIC DISEASE  \\\n",
              "AGE                    1.000000        0.005205  0.053170        -0.012642   \n",
              "YELLOW_FINGERS         0.005205        1.000000  0.565829         0.041122   \n",
              "ANXIETY                0.053170        0.565829  1.000000        -0.009678   \n",
              "CHRONIC DISEASE       -0.012642        0.041122 -0.009678         1.000000   \n",
              "ALLERGY                0.027990       -0.144300 -0.165750         0.106386   \n",
              "WHEEZING               0.055011       -0.078515 -0.191807        -0.049967   \n",
              "ALCOHOL CONSUMING      0.058985       -0.289025 -0.165750         0.002150   \n",
              "COUGHING               0.169950       -0.012640 -0.225644        -0.175287   \n",
              "SHORTNESS OF BREATH   -0.017513       -0.105944 -0.144077        -0.026459   \n",
              "SWALLOWING DIFFICULTY -0.001270        0.345904  0.489403         0.075176   \n",
              "CHESTPAIN             -0.018104       -0.104829 -0.113634        -0.036938   \n",
              "\n",
              "                       ALLERGY   WHEEZING  ALCOHOL CONSUMING  COUGHING  \\\n",
              "AGE                    0.027990  0.055011           0.058985  0.169950   \n",
              "YELLOW_FINGERS        -0.144300 -0.078515          -0.289025 -0.012640   \n",
              "ANXIETY               -0.165750 -0.191807          -0.165750 -0.225644   \n",
              "CHRONIC DISEASE        0.106386 -0.049967           0.002150 -0.175287   \n",
              "ALLERGY                1.000000  0.173867           0.344339  0.189524   \n",
              "WHEEZING               0.173867  1.000000           0.265659  0.374265   \n",
              "ALCOHOL CONSUMING      0.344339  0.265659           1.000000  0.202720   \n",
              "COUGHING               0.189524  0.374265           0.202720  1.000000   \n",
              "SHORTNESS OF BREATH   -0.030056  0.037834          -0.179416  0.277385   \n",
              "SWALLOWING DIFFICULTY -0.061508  0.069027          -0.009294 -0.157586   \n",
              "CHESTPAIN              0.239433  0.147640           0.331226  0.083958   \n",
              "\n",
              "                       SHORTNESS OF BREATH  SWALLOWING DIFFICULTY  CHESTPAIN  \n",
              "AGE                              -0.017513              -0.001270  -0.018104  \n",
              "YELLOW_FINGERS                   -0.105944               0.345904  -0.104829  \n",
              "ANXIETY                          -0.144077               0.489403  -0.113634  \n",
              "CHRONIC DISEASE                  -0.026459               0.075176  -0.036938  \n",
              "ALLERGY                          -0.030056              -0.061508   0.239433  \n",
              "WHEEZING                          0.037834               0.069027   0.147640  \n",
              "ALCOHOL CONSUMING                -0.179416              -0.009294   0.331226  \n",
              "COUGHING                          0.277385              -0.157586   0.083958  \n",
              "SHORTNESS OF BREATH               1.000000              -0.161015   0.024256  \n",
              "SWALLOWING DIFFICULTY            -0.161015               1.000000   0.069027  \n",
              "CHESTPAIN                         0.024256               0.069027   1.000000  "
            ],
            "text/html": [
              "\n",
              "  <div id=\"df-ea4e225d-11f2-4166-8051-6d6d81f70318\">\n",
              "    <div class=\"colab-df-container\">\n",
              "      <div>\n",
              "<style scoped>\n",
              "    .dataframe tbody tr th:only-of-type {\n",
              "        vertical-align: middle;\n",
              "    }\n",
              "\n",
              "    .dataframe tbody tr th {\n",
              "        vertical-align: top;\n",
              "    }\n",
              "\n",
              "    .dataframe thead th {\n",
              "        text-align: right;\n",
              "    }\n",
              "</style>\n",
              "<table border=\"1\" class=\"dataframe\">\n",
              "  <thead>\n",
              "    <tr style=\"text-align: right;\">\n",
              "      <th></th>\n",
              "      <th>AGE</th>\n",
              "      <th>YELLOW_FINGERS</th>\n",
              "      <th>ANXIETY</th>\n",
              "      <th>CHRONIC DISEASE</th>\n",
              "      <th>ALLERGY</th>\n",
              "      <th>WHEEZING</th>\n",
              "      <th>ALCOHOL CONSUMING</th>\n",
              "      <th>COUGHING</th>\n",
              "      <th>SHORTNESS OF BREATH</th>\n",
              "      <th>SWALLOWING DIFFICULTY</th>\n",
              "      <th>CHESTPAIN</th>\n",
              "    </tr>\n",
              "  </thead>\n",
              "  <tbody>\n",
              "    <tr>\n",
              "      <th>AGE</th>\n",
              "      <td>1.000000</td>\n",
              "      <td>0.005205</td>\n",
              "      <td>0.053170</td>\n",
              "      <td>-0.012642</td>\n",
              "      <td>0.027990</td>\n",
              "      <td>0.055011</td>\n",
              "      <td>0.058985</td>\n",
              "      <td>0.169950</td>\n",
              "      <td>-0.017513</td>\n",
              "      <td>-0.001270</td>\n",
              "      <td>-0.018104</td>\n",
              "    </tr>\n",
              "    <tr>\n",
              "      <th>YELLOW_FINGERS</th>\n",
              "      <td>0.005205</td>\n",
              "      <td>1.000000</td>\n",
              "      <td>0.565829</td>\n",
              "      <td>0.041122</td>\n",
              "      <td>-0.144300</td>\n",
              "      <td>-0.078515</td>\n",
              "      <td>-0.289025</td>\n",
              "      <td>-0.012640</td>\n",
              "      <td>-0.105944</td>\n",
              "      <td>0.345904</td>\n",
              "      <td>-0.104829</td>\n",
              "    </tr>\n",
              "    <tr>\n",
              "      <th>ANXIETY</th>\n",
              "      <td>0.053170</td>\n",
              "      <td>0.565829</td>\n",
              "      <td>1.000000</td>\n",
              "      <td>-0.009678</td>\n",
              "      <td>-0.165750</td>\n",
              "      <td>-0.191807</td>\n",
              "      <td>-0.165750</td>\n",
              "      <td>-0.225644</td>\n",
              "      <td>-0.144077</td>\n",
              "      <td>0.489403</td>\n",
              "      <td>-0.113634</td>\n",
              "    </tr>\n",
              "    <tr>\n",
              "      <th>CHRONIC DISEASE</th>\n",
              "      <td>-0.012642</td>\n",
              "      <td>0.041122</td>\n",
              "      <td>-0.009678</td>\n",
              "      <td>1.000000</td>\n",
              "      <td>0.106386</td>\n",
              "      <td>-0.049967</td>\n",
              "      <td>0.002150</td>\n",
              "      <td>-0.175287</td>\n",
              "      <td>-0.026459</td>\n",
              "      <td>0.075176</td>\n",
              "      <td>-0.036938</td>\n",
              "    </tr>\n",
              "    <tr>\n",
              "      <th>ALLERGY</th>\n",
              "      <td>0.027990</td>\n",
              "      <td>-0.144300</td>\n",
              "      <td>-0.165750</td>\n",
              "      <td>0.106386</td>\n",
              "      <td>1.000000</td>\n",
              "      <td>0.173867</td>\n",
              "      <td>0.344339</td>\n",
              "      <td>0.189524</td>\n",
              "      <td>-0.030056</td>\n",
              "      <td>-0.061508</td>\n",
              "      <td>0.239433</td>\n",
              "    </tr>\n",
              "    <tr>\n",
              "      <th>WHEEZING</th>\n",
              "      <td>0.055011</td>\n",
              "      <td>-0.078515</td>\n",
              "      <td>-0.191807</td>\n",
              "      <td>-0.049967</td>\n",
              "      <td>0.173867</td>\n",
              "      <td>1.000000</td>\n",
              "      <td>0.265659</td>\n",
              "      <td>0.374265</td>\n",
              "      <td>0.037834</td>\n",
              "      <td>0.069027</td>\n",
              "      <td>0.147640</td>\n",
              "    </tr>\n",
              "    <tr>\n",
              "      <th>ALCOHOL CONSUMING</th>\n",
              "      <td>0.058985</td>\n",
              "      <td>-0.289025</td>\n",
              "      <td>-0.165750</td>\n",
              "      <td>0.002150</td>\n",
              "      <td>0.344339</td>\n",
              "      <td>0.265659</td>\n",
              "      <td>1.000000</td>\n",
              "      <td>0.202720</td>\n",
              "      <td>-0.179416</td>\n",
              "      <td>-0.009294</td>\n",
              "      <td>0.331226</td>\n",
              "    </tr>\n",
              "    <tr>\n",
              "      <th>COUGHING</th>\n",
              "      <td>0.169950</td>\n",
              "      <td>-0.012640</td>\n",
              "      <td>-0.225644</td>\n",
              "      <td>-0.175287</td>\n",
              "      <td>0.189524</td>\n",
              "      <td>0.374265</td>\n",
              "      <td>0.202720</td>\n",
              "      <td>1.000000</td>\n",
              "      <td>0.277385</td>\n",
              "      <td>-0.157586</td>\n",
              "      <td>0.083958</td>\n",
              "    </tr>\n",
              "    <tr>\n",
              "      <th>SHORTNESS OF BREATH</th>\n",
              "      <td>-0.017513</td>\n",
              "      <td>-0.105944</td>\n",
              "      <td>-0.144077</td>\n",
              "      <td>-0.026459</td>\n",
              "      <td>-0.030056</td>\n",
              "      <td>0.037834</td>\n",
              "      <td>-0.179416</td>\n",
              "      <td>0.277385</td>\n",
              "      <td>1.000000</td>\n",
              "      <td>-0.161015</td>\n",
              "      <td>0.024256</td>\n",
              "    </tr>\n",
              "    <tr>\n",
              "      <th>SWALLOWING DIFFICULTY</th>\n",
              "      <td>-0.001270</td>\n",
              "      <td>0.345904</td>\n",
              "      <td>0.489403</td>\n",
              "      <td>0.075176</td>\n",
              "      <td>-0.061508</td>\n",
              "      <td>0.069027</td>\n",
              "      <td>-0.009294</td>\n",
              "      <td>-0.157586</td>\n",
              "      <td>-0.161015</td>\n",
              "      <td>1.000000</td>\n",
              "      <td>0.069027</td>\n",
              "    </tr>\n",
              "    <tr>\n",
              "      <th>CHESTPAIN</th>\n",
              "      <td>-0.018104</td>\n",
              "      <td>-0.104829</td>\n",
              "      <td>-0.113634</td>\n",
              "      <td>-0.036938</td>\n",
              "      <td>0.239433</td>\n",
              "      <td>0.147640</td>\n",
              "      <td>0.331226</td>\n",
              "      <td>0.083958</td>\n",
              "      <td>0.024256</td>\n",
              "      <td>0.069027</td>\n",
              "      <td>1.000000</td>\n",
              "    </tr>\n",
              "  </tbody>\n",
              "</table>\n",
              "</div>\n",
              "      <button class=\"colab-df-convert\" onclick=\"convertToInteractive('df-ea4e225d-11f2-4166-8051-6d6d81f70318')\"\n",
              "              title=\"Convert this dataframe to an interactive table.\"\n",
              "              style=\"display:none;\">\n",
              "        \n",
              "  <svg xmlns=\"http://www.w3.org/2000/svg\" height=\"24px\"viewBox=\"0 0 24 24\"\n",
              "       width=\"24px\">\n",
              "    <path d=\"M0 0h24v24H0V0z\" fill=\"none\"/>\n",
              "    <path d=\"M18.56 5.44l.94 2.06.94-2.06 2.06-.94-2.06-.94-.94-2.06-.94 2.06-2.06.94zm-11 1L8.5 8.5l.94-2.06 2.06-.94-2.06-.94L8.5 2.5l-.94 2.06-2.06.94zm10 10l.94 2.06.94-2.06 2.06-.94-2.06-.94-.94-2.06-.94 2.06-2.06.94z\"/><path d=\"M17.41 7.96l-1.37-1.37c-.4-.4-.92-.59-1.43-.59-.52 0-1.04.2-1.43.59L10.3 9.45l-7.72 7.72c-.78.78-.78 2.05 0 2.83L4 21.41c.39.39.9.59 1.41.59.51 0 1.02-.2 1.41-.59l7.78-7.78 2.81-2.81c.8-.78.8-2.07 0-2.86zM5.41 20L4 18.59l7.72-7.72 1.47 1.35L5.41 20z\"/>\n",
              "  </svg>\n",
              "      </button>\n",
              "      \n",
              "  <style>\n",
              "    .colab-df-container {\n",
              "      display:flex;\n",
              "      flex-wrap:wrap;\n",
              "      gap: 12px;\n",
              "    }\n",
              "\n",
              "    .colab-df-convert {\n",
              "      background-color: #E8F0FE;\n",
              "      border: none;\n",
              "      border-radius: 50%;\n",
              "      cursor: pointer;\n",
              "      display: none;\n",
              "      fill: #1967D2;\n",
              "      height: 32px;\n",
              "      padding: 0 0 0 0;\n",
              "      width: 32px;\n",
              "    }\n",
              "\n",
              "    .colab-df-convert:hover {\n",
              "      background-color: #E2EBFA;\n",
              "      box-shadow: 0px 1px 2px rgba(60, 64, 67, 0.3), 0px 1px 3px 1px rgba(60, 64, 67, 0.15);\n",
              "      fill: #174EA6;\n",
              "    }\n",
              "\n",
              "    [theme=dark] .colab-df-convert {\n",
              "      background-color: #3B4455;\n",
              "      fill: #D2E3FC;\n",
              "    }\n",
              "\n",
              "    [theme=dark] .colab-df-convert:hover {\n",
              "      background-color: #434B5C;\n",
              "      box-shadow: 0px 1px 3px 1px rgba(0, 0, 0, 0.15);\n",
              "      filter: drop-shadow(0px 1px 2px rgba(0, 0, 0, 0.3));\n",
              "      fill: #FFFFFF;\n",
              "    }\n",
              "  </style>\n",
              "\n",
              "      <script>\n",
              "        const buttonEl =\n",
              "          document.querySelector('#df-ea4e225d-11f2-4166-8051-6d6d81f70318 button.colab-df-convert');\n",
              "        buttonEl.style.display =\n",
              "          google.colab.kernel.accessAllowed ? 'block' : 'none';\n",
              "\n",
              "        async function convertToInteractive(key) {\n",
              "          const element = document.querySelector('#df-ea4e225d-11f2-4166-8051-6d6d81f70318');\n",
              "          const dataTable =\n",
              "            await google.colab.kernel.invokeFunction('convertToInteractive',\n",
              "                                                     [key], {});\n",
              "          if (!dataTable) return;\n",
              "\n",
              "          const docLinkHtml = 'Like what you see? Visit the ' +\n",
              "            '<a target=\"_blank\" href=https://colab.research.google.com/notebooks/data_table.ipynb>data table notebook</a>'\n",
              "            + ' to learn more about interactive tables.';\n",
              "          element.innerHTML = '';\n",
              "          dataTable['output_type'] = 'display_data';\n",
              "          await google.colab.output.renderOutput(dataTable, element);\n",
              "          const docLink = document.createElement('div');\n",
              "          docLink.innerHTML = docLinkHtml;\n",
              "          element.appendChild(docLink);\n",
              "        }\n",
              "      </script>\n",
              "    </div>\n",
              "  </div>\n",
              "  "
            ]
          },
          "metadata": {},
          "execution_count": 176
        }
      ]
    },
    {
      "cell_type": "code",
      "source": [
        "df.loc[:6:] #group of rows and columns by labels"
      ],
      "metadata": {
        "colab": {
          "base_uri": "https://localhost:8080/",
          "height": 365
        },
        "id": "1jKqNjB6Nu7m",
        "outputId": "59da1588-4bf7-4d1e-f676-28ac7e2a889b"
      },
      "execution_count": null,
      "outputs": [
        {
          "output_type": "execute_result",
          "data": {
            "text/plain": [
              "  GENDER  AGE          smoking  YELLOW_FINGERS  ANXIETY  CHRONIC DISEASE  \\\n",
              "0      M   69  formerly smoked               2        2                1   \n",
              "1      M   74     never smoked               1        1                2   \n",
              "2      F   59           smokes               1        1                1   \n",
              "3      M   63     never smoked               2        2                1   \n",
              "4      F   63  formerly smoked               2        1                1   \n",
              "5      F   75     never smoked               2        1                2   \n",
              "6      M   52     never smoked               1        1                1   \n",
              "\n",
              "   ALLERGY   WHEEZING  ALCOHOL CONSUMING  COUGHING  SHORTNESS OF BREATH  \\\n",
              "0         1         2                  2         2                    2   \n",
              "1         2         1                  1         1                    2   \n",
              "2         1         2                  1         2                    2   \n",
              "3         1         1                  2         1                    1   \n",
              "4         1         2                  1         2                    2   \n",
              "5         2         2                  1         2                    2   \n",
              "6         1         2                  2         2                    2   \n",
              "\n",
              "   SWALLOWING DIFFICULTY  CHESTPAIN LUNG_CANCER  \n",
              "0                      2          2         YES  \n",
              "1                      2          2         YES  \n",
              "2                      1          2          NO  \n",
              "3                      2          2          NO  \n",
              "4                      1          1          NO  \n",
              "5                      1          1         YES  \n",
              "6                      1          2         YES  "
            ],
            "text/html": [
              "\n",
              "  <div id=\"df-103e5f41-a1df-4d92-bc61-bf2b9be597b6\">\n",
              "    <div class=\"colab-df-container\">\n",
              "      <div>\n",
              "<style scoped>\n",
              "    .dataframe tbody tr th:only-of-type {\n",
              "        vertical-align: middle;\n",
              "    }\n",
              "\n",
              "    .dataframe tbody tr th {\n",
              "        vertical-align: top;\n",
              "    }\n",
              "\n",
              "    .dataframe thead th {\n",
              "        text-align: right;\n",
              "    }\n",
              "</style>\n",
              "<table border=\"1\" class=\"dataframe\">\n",
              "  <thead>\n",
              "    <tr style=\"text-align: right;\">\n",
              "      <th></th>\n",
              "      <th>GENDER</th>\n",
              "      <th>AGE</th>\n",
              "      <th>smoking</th>\n",
              "      <th>YELLOW_FINGERS</th>\n",
              "      <th>ANXIETY</th>\n",
              "      <th>CHRONIC DISEASE</th>\n",
              "      <th>ALLERGY</th>\n",
              "      <th>WHEEZING</th>\n",
              "      <th>ALCOHOL CONSUMING</th>\n",
              "      <th>COUGHING</th>\n",
              "      <th>SHORTNESS OF BREATH</th>\n",
              "      <th>SWALLOWING DIFFICULTY</th>\n",
              "      <th>CHESTPAIN</th>\n",
              "      <th>LUNG_CANCER</th>\n",
              "    </tr>\n",
              "  </thead>\n",
              "  <tbody>\n",
              "    <tr>\n",
              "      <th>0</th>\n",
              "      <td>M</td>\n",
              "      <td>69</td>\n",
              "      <td>formerly smoked</td>\n",
              "      <td>2</td>\n",
              "      <td>2</td>\n",
              "      <td>1</td>\n",
              "      <td>1</td>\n",
              "      <td>2</td>\n",
              "      <td>2</td>\n",
              "      <td>2</td>\n",
              "      <td>2</td>\n",
              "      <td>2</td>\n",
              "      <td>2</td>\n",
              "      <td>YES</td>\n",
              "    </tr>\n",
              "    <tr>\n",
              "      <th>1</th>\n",
              "      <td>M</td>\n",
              "      <td>74</td>\n",
              "      <td>never smoked</td>\n",
              "      <td>1</td>\n",
              "      <td>1</td>\n",
              "      <td>2</td>\n",
              "      <td>2</td>\n",
              "      <td>1</td>\n",
              "      <td>1</td>\n",
              "      <td>1</td>\n",
              "      <td>2</td>\n",
              "      <td>2</td>\n",
              "      <td>2</td>\n",
              "      <td>YES</td>\n",
              "    </tr>\n",
              "    <tr>\n",
              "      <th>2</th>\n",
              "      <td>F</td>\n",
              "      <td>59</td>\n",
              "      <td>smokes</td>\n",
              "      <td>1</td>\n",
              "      <td>1</td>\n",
              "      <td>1</td>\n",
              "      <td>1</td>\n",
              "      <td>2</td>\n",
              "      <td>1</td>\n",
              "      <td>2</td>\n",
              "      <td>2</td>\n",
              "      <td>1</td>\n",
              "      <td>2</td>\n",
              "      <td>NO</td>\n",
              "    </tr>\n",
              "    <tr>\n",
              "      <th>3</th>\n",
              "      <td>M</td>\n",
              "      <td>63</td>\n",
              "      <td>never smoked</td>\n",
              "      <td>2</td>\n",
              "      <td>2</td>\n",
              "      <td>1</td>\n",
              "      <td>1</td>\n",
              "      <td>1</td>\n",
              "      <td>2</td>\n",
              "      <td>1</td>\n",
              "      <td>1</td>\n",
              "      <td>2</td>\n",
              "      <td>2</td>\n",
              "      <td>NO</td>\n",
              "    </tr>\n",
              "    <tr>\n",
              "      <th>4</th>\n",
              "      <td>F</td>\n",
              "      <td>63</td>\n",
              "      <td>formerly smoked</td>\n",
              "      <td>2</td>\n",
              "      <td>1</td>\n",
              "      <td>1</td>\n",
              "      <td>1</td>\n",
              "      <td>2</td>\n",
              "      <td>1</td>\n",
              "      <td>2</td>\n",
              "      <td>2</td>\n",
              "      <td>1</td>\n",
              "      <td>1</td>\n",
              "      <td>NO</td>\n",
              "    </tr>\n",
              "    <tr>\n",
              "      <th>5</th>\n",
              "      <td>F</td>\n",
              "      <td>75</td>\n",
              "      <td>never smoked</td>\n",
              "      <td>2</td>\n",
              "      <td>1</td>\n",
              "      <td>2</td>\n",
              "      <td>2</td>\n",
              "      <td>2</td>\n",
              "      <td>1</td>\n",
              "      <td>2</td>\n",
              "      <td>2</td>\n",
              "      <td>1</td>\n",
              "      <td>1</td>\n",
              "      <td>YES</td>\n",
              "    </tr>\n",
              "    <tr>\n",
              "      <th>6</th>\n",
              "      <td>M</td>\n",
              "      <td>52</td>\n",
              "      <td>never smoked</td>\n",
              "      <td>1</td>\n",
              "      <td>1</td>\n",
              "      <td>1</td>\n",
              "      <td>1</td>\n",
              "      <td>2</td>\n",
              "      <td>2</td>\n",
              "      <td>2</td>\n",
              "      <td>2</td>\n",
              "      <td>1</td>\n",
              "      <td>2</td>\n",
              "      <td>YES</td>\n",
              "    </tr>\n",
              "  </tbody>\n",
              "</table>\n",
              "</div>\n",
              "      <button class=\"colab-df-convert\" onclick=\"convertToInteractive('df-103e5f41-a1df-4d92-bc61-bf2b9be597b6')\"\n",
              "              title=\"Convert this dataframe to an interactive table.\"\n",
              "              style=\"display:none;\">\n",
              "        \n",
              "  <svg xmlns=\"http://www.w3.org/2000/svg\" height=\"24px\"viewBox=\"0 0 24 24\"\n",
              "       width=\"24px\">\n",
              "    <path d=\"M0 0h24v24H0V0z\" fill=\"none\"/>\n",
              "    <path d=\"M18.56 5.44l.94 2.06.94-2.06 2.06-.94-2.06-.94-.94-2.06-.94 2.06-2.06.94zm-11 1L8.5 8.5l.94-2.06 2.06-.94-2.06-.94L8.5 2.5l-.94 2.06-2.06.94zm10 10l.94 2.06.94-2.06 2.06-.94-2.06-.94-.94-2.06-.94 2.06-2.06.94z\"/><path d=\"M17.41 7.96l-1.37-1.37c-.4-.4-.92-.59-1.43-.59-.52 0-1.04.2-1.43.59L10.3 9.45l-7.72 7.72c-.78.78-.78 2.05 0 2.83L4 21.41c.39.39.9.59 1.41.59.51 0 1.02-.2 1.41-.59l7.78-7.78 2.81-2.81c.8-.78.8-2.07 0-2.86zM5.41 20L4 18.59l7.72-7.72 1.47 1.35L5.41 20z\"/>\n",
              "  </svg>\n",
              "      </button>\n",
              "      \n",
              "  <style>\n",
              "    .colab-df-container {\n",
              "      display:flex;\n",
              "      flex-wrap:wrap;\n",
              "      gap: 12px;\n",
              "    }\n",
              "\n",
              "    .colab-df-convert {\n",
              "      background-color: #E8F0FE;\n",
              "      border: none;\n",
              "      border-radius: 50%;\n",
              "      cursor: pointer;\n",
              "      display: none;\n",
              "      fill: #1967D2;\n",
              "      height: 32px;\n",
              "      padding: 0 0 0 0;\n",
              "      width: 32px;\n",
              "    }\n",
              "\n",
              "    .colab-df-convert:hover {\n",
              "      background-color: #E2EBFA;\n",
              "      box-shadow: 0px 1px 2px rgba(60, 64, 67, 0.3), 0px 1px 3px 1px rgba(60, 64, 67, 0.15);\n",
              "      fill: #174EA6;\n",
              "    }\n",
              "\n",
              "    [theme=dark] .colab-df-convert {\n",
              "      background-color: #3B4455;\n",
              "      fill: #D2E3FC;\n",
              "    }\n",
              "\n",
              "    [theme=dark] .colab-df-convert:hover {\n",
              "      background-color: #434B5C;\n",
              "      box-shadow: 0px 1px 3px 1px rgba(0, 0, 0, 0.15);\n",
              "      filter: drop-shadow(0px 1px 2px rgba(0, 0, 0, 0.3));\n",
              "      fill: #FFFFFF;\n",
              "    }\n",
              "  </style>\n",
              "\n",
              "      <script>\n",
              "        const buttonEl =\n",
              "          document.querySelector('#df-103e5f41-a1df-4d92-bc61-bf2b9be597b6 button.colab-df-convert');\n",
              "        buttonEl.style.display =\n",
              "          google.colab.kernel.accessAllowed ? 'block' : 'none';\n",
              "\n",
              "        async function convertToInteractive(key) {\n",
              "          const element = document.querySelector('#df-103e5f41-a1df-4d92-bc61-bf2b9be597b6');\n",
              "          const dataTable =\n",
              "            await google.colab.kernel.invokeFunction('convertToInteractive',\n",
              "                                                     [key], {});\n",
              "          if (!dataTable) return;\n",
              "\n",
              "          const docLinkHtml = 'Like what you see? Visit the ' +\n",
              "            '<a target=\"_blank\" href=https://colab.research.google.com/notebooks/data_table.ipynb>data table notebook</a>'\n",
              "            + ' to learn more about interactive tables.';\n",
              "          element.innerHTML = '';\n",
              "          dataTable['output_type'] = 'display_data';\n",
              "          await google.colab.output.renderOutput(dataTable, element);\n",
              "          const docLink = document.createElement('div');\n",
              "          docLink.innerHTML = docLinkHtml;\n",
              "          element.appendChild(docLink);\n",
              "        }\n",
              "      </script>\n",
              "    </div>\n",
              "  </div>\n",
              "  "
            ]
          },
          "metadata": {},
          "execution_count": 177
        }
      ]
    },
    {
      "cell_type": "code",
      "source": [
        "df.isna() #used to find any values in data set"
      ],
      "metadata": {
        "colab": {
          "base_uri": "https://localhost:8080/",
          "height": 485
        },
        "id": "2fnP140DODY9",
        "outputId": "5587fd93-114d-4214-eeef-190483155bf5"
      },
      "execution_count": null,
      "outputs": [
        {
          "output_type": "execute_result",
          "data": {
            "text/plain": [
              "     GENDER    AGE  smoking  YELLOW_FINGERS  ANXIETY  CHRONIC DISEASE  \\\n",
              "0     False  False    False           False    False            False   \n",
              "1     False  False    False           False    False            False   \n",
              "2     False  False    False           False    False            False   \n",
              "3     False  False    False           False    False            False   \n",
              "4     False  False    False           False    False            False   \n",
              "..      ...    ...      ...             ...      ...              ...   \n",
              "304   False  False    False           False    False            False   \n",
              "305   False  False    False           False    False            False   \n",
              "306   False  False    False           False    False            False   \n",
              "307   False  False    False           False    False            False   \n",
              "308   False  False    False           False    False            False   \n",
              "\n",
              "     ALLERGY   WHEEZING  ALCOHOL CONSUMING  COUGHING  SHORTNESS OF BREATH  \\\n",
              "0       False     False              False     False                False   \n",
              "1       False     False              False     False                False   \n",
              "2       False     False              False     False                False   \n",
              "3       False     False              False     False                False   \n",
              "4       False     False              False     False                False   \n",
              "..        ...       ...                ...       ...                  ...   \n",
              "304     False     False              False     False                False   \n",
              "305     False     False              False     False                False   \n",
              "306     False     False              False     False                False   \n",
              "307     False     False              False     False                False   \n",
              "308     False     False              False     False                False   \n",
              "\n",
              "     SWALLOWING DIFFICULTY  CHESTPAIN  LUNG_CANCER  \n",
              "0                    False      False        False  \n",
              "1                    False      False        False  \n",
              "2                    False      False        False  \n",
              "3                    False      False        False  \n",
              "4                    False      False        False  \n",
              "..                     ...        ...          ...  \n",
              "304                  False      False        False  \n",
              "305                  False      False        False  \n",
              "306                  False      False        False  \n",
              "307                  False      False        False  \n",
              "308                  False      False        False  \n",
              "\n",
              "[309 rows x 14 columns]"
            ],
            "text/html": [
              "\n",
              "  <div id=\"df-e8e1f5ea-f2ab-48bb-a8eb-6fc2f01b7c33\">\n",
              "    <div class=\"colab-df-container\">\n",
              "      <div>\n",
              "<style scoped>\n",
              "    .dataframe tbody tr th:only-of-type {\n",
              "        vertical-align: middle;\n",
              "    }\n",
              "\n",
              "    .dataframe tbody tr th {\n",
              "        vertical-align: top;\n",
              "    }\n",
              "\n",
              "    .dataframe thead th {\n",
              "        text-align: right;\n",
              "    }\n",
              "</style>\n",
              "<table border=\"1\" class=\"dataframe\">\n",
              "  <thead>\n",
              "    <tr style=\"text-align: right;\">\n",
              "      <th></th>\n",
              "      <th>GENDER</th>\n",
              "      <th>AGE</th>\n",
              "      <th>smoking</th>\n",
              "      <th>YELLOW_FINGERS</th>\n",
              "      <th>ANXIETY</th>\n",
              "      <th>CHRONIC DISEASE</th>\n",
              "      <th>ALLERGY</th>\n",
              "      <th>WHEEZING</th>\n",
              "      <th>ALCOHOL CONSUMING</th>\n",
              "      <th>COUGHING</th>\n",
              "      <th>SHORTNESS OF BREATH</th>\n",
              "      <th>SWALLOWING DIFFICULTY</th>\n",
              "      <th>CHESTPAIN</th>\n",
              "      <th>LUNG_CANCER</th>\n",
              "    </tr>\n",
              "  </thead>\n",
              "  <tbody>\n",
              "    <tr>\n",
              "      <th>0</th>\n",
              "      <td>False</td>\n",
              "      <td>False</td>\n",
              "      <td>False</td>\n",
              "      <td>False</td>\n",
              "      <td>False</td>\n",
              "      <td>False</td>\n",
              "      <td>False</td>\n",
              "      <td>False</td>\n",
              "      <td>False</td>\n",
              "      <td>False</td>\n",
              "      <td>False</td>\n",
              "      <td>False</td>\n",
              "      <td>False</td>\n",
              "      <td>False</td>\n",
              "    </tr>\n",
              "    <tr>\n",
              "      <th>1</th>\n",
              "      <td>False</td>\n",
              "      <td>False</td>\n",
              "      <td>False</td>\n",
              "      <td>False</td>\n",
              "      <td>False</td>\n",
              "      <td>False</td>\n",
              "      <td>False</td>\n",
              "      <td>False</td>\n",
              "      <td>False</td>\n",
              "      <td>False</td>\n",
              "      <td>False</td>\n",
              "      <td>False</td>\n",
              "      <td>False</td>\n",
              "      <td>False</td>\n",
              "    </tr>\n",
              "    <tr>\n",
              "      <th>2</th>\n",
              "      <td>False</td>\n",
              "      <td>False</td>\n",
              "      <td>False</td>\n",
              "      <td>False</td>\n",
              "      <td>False</td>\n",
              "      <td>False</td>\n",
              "      <td>False</td>\n",
              "      <td>False</td>\n",
              "      <td>False</td>\n",
              "      <td>False</td>\n",
              "      <td>False</td>\n",
              "      <td>False</td>\n",
              "      <td>False</td>\n",
              "      <td>False</td>\n",
              "    </tr>\n",
              "    <tr>\n",
              "      <th>3</th>\n",
              "      <td>False</td>\n",
              "      <td>False</td>\n",
              "      <td>False</td>\n",
              "      <td>False</td>\n",
              "      <td>False</td>\n",
              "      <td>False</td>\n",
              "      <td>False</td>\n",
              "      <td>False</td>\n",
              "      <td>False</td>\n",
              "      <td>False</td>\n",
              "      <td>False</td>\n",
              "      <td>False</td>\n",
              "      <td>False</td>\n",
              "      <td>False</td>\n",
              "    </tr>\n",
              "    <tr>\n",
              "      <th>4</th>\n",
              "      <td>False</td>\n",
              "      <td>False</td>\n",
              "      <td>False</td>\n",
              "      <td>False</td>\n",
              "      <td>False</td>\n",
              "      <td>False</td>\n",
              "      <td>False</td>\n",
              "      <td>False</td>\n",
              "      <td>False</td>\n",
              "      <td>False</td>\n",
              "      <td>False</td>\n",
              "      <td>False</td>\n",
              "      <td>False</td>\n",
              "      <td>False</td>\n",
              "    </tr>\n",
              "    <tr>\n",
              "      <th>...</th>\n",
              "      <td>...</td>\n",
              "      <td>...</td>\n",
              "      <td>...</td>\n",
              "      <td>...</td>\n",
              "      <td>...</td>\n",
              "      <td>...</td>\n",
              "      <td>...</td>\n",
              "      <td>...</td>\n",
              "      <td>...</td>\n",
              "      <td>...</td>\n",
              "      <td>...</td>\n",
              "      <td>...</td>\n",
              "      <td>...</td>\n",
              "      <td>...</td>\n",
              "    </tr>\n",
              "    <tr>\n",
              "      <th>304</th>\n",
              "      <td>False</td>\n",
              "      <td>False</td>\n",
              "      <td>False</td>\n",
              "      <td>False</td>\n",
              "      <td>False</td>\n",
              "      <td>False</td>\n",
              "      <td>False</td>\n",
              "      <td>False</td>\n",
              "      <td>False</td>\n",
              "      <td>False</td>\n",
              "      <td>False</td>\n",
              "      <td>False</td>\n",
              "      <td>False</td>\n",
              "      <td>False</td>\n",
              "    </tr>\n",
              "    <tr>\n",
              "      <th>305</th>\n",
              "      <td>False</td>\n",
              "      <td>False</td>\n",
              "      <td>False</td>\n",
              "      <td>False</td>\n",
              "      <td>False</td>\n",
              "      <td>False</td>\n",
              "      <td>False</td>\n",
              "      <td>False</td>\n",
              "      <td>False</td>\n",
              "      <td>False</td>\n",
              "      <td>False</td>\n",
              "      <td>False</td>\n",
              "      <td>False</td>\n",
              "      <td>False</td>\n",
              "    </tr>\n",
              "    <tr>\n",
              "      <th>306</th>\n",
              "      <td>False</td>\n",
              "      <td>False</td>\n",
              "      <td>False</td>\n",
              "      <td>False</td>\n",
              "      <td>False</td>\n",
              "      <td>False</td>\n",
              "      <td>False</td>\n",
              "      <td>False</td>\n",
              "      <td>False</td>\n",
              "      <td>False</td>\n",
              "      <td>False</td>\n",
              "      <td>False</td>\n",
              "      <td>False</td>\n",
              "      <td>False</td>\n",
              "    </tr>\n",
              "    <tr>\n",
              "      <th>307</th>\n",
              "      <td>False</td>\n",
              "      <td>False</td>\n",
              "      <td>False</td>\n",
              "      <td>False</td>\n",
              "      <td>False</td>\n",
              "      <td>False</td>\n",
              "      <td>False</td>\n",
              "      <td>False</td>\n",
              "      <td>False</td>\n",
              "      <td>False</td>\n",
              "      <td>False</td>\n",
              "      <td>False</td>\n",
              "      <td>False</td>\n",
              "      <td>False</td>\n",
              "    </tr>\n",
              "    <tr>\n",
              "      <th>308</th>\n",
              "      <td>False</td>\n",
              "      <td>False</td>\n",
              "      <td>False</td>\n",
              "      <td>False</td>\n",
              "      <td>False</td>\n",
              "      <td>False</td>\n",
              "      <td>False</td>\n",
              "      <td>False</td>\n",
              "      <td>False</td>\n",
              "      <td>False</td>\n",
              "      <td>False</td>\n",
              "      <td>False</td>\n",
              "      <td>False</td>\n",
              "      <td>False</td>\n",
              "    </tr>\n",
              "  </tbody>\n",
              "</table>\n",
              "<p>309 rows × 14 columns</p>\n",
              "</div>\n",
              "      <button class=\"colab-df-convert\" onclick=\"convertToInteractive('df-e8e1f5ea-f2ab-48bb-a8eb-6fc2f01b7c33')\"\n",
              "              title=\"Convert this dataframe to an interactive table.\"\n",
              "              style=\"display:none;\">\n",
              "        \n",
              "  <svg xmlns=\"http://www.w3.org/2000/svg\" height=\"24px\"viewBox=\"0 0 24 24\"\n",
              "       width=\"24px\">\n",
              "    <path d=\"M0 0h24v24H0V0z\" fill=\"none\"/>\n",
              "    <path d=\"M18.56 5.44l.94 2.06.94-2.06 2.06-.94-2.06-.94-.94-2.06-.94 2.06-2.06.94zm-11 1L8.5 8.5l.94-2.06 2.06-.94-2.06-.94L8.5 2.5l-.94 2.06-2.06.94zm10 10l.94 2.06.94-2.06 2.06-.94-2.06-.94-.94-2.06-.94 2.06-2.06.94z\"/><path d=\"M17.41 7.96l-1.37-1.37c-.4-.4-.92-.59-1.43-.59-.52 0-1.04.2-1.43.59L10.3 9.45l-7.72 7.72c-.78.78-.78 2.05 0 2.83L4 21.41c.39.39.9.59 1.41.59.51 0 1.02-.2 1.41-.59l7.78-7.78 2.81-2.81c.8-.78.8-2.07 0-2.86zM5.41 20L4 18.59l7.72-7.72 1.47 1.35L5.41 20z\"/>\n",
              "  </svg>\n",
              "      </button>\n",
              "      \n",
              "  <style>\n",
              "    .colab-df-container {\n",
              "      display:flex;\n",
              "      flex-wrap:wrap;\n",
              "      gap: 12px;\n",
              "    }\n",
              "\n",
              "    .colab-df-convert {\n",
              "      background-color: #E8F0FE;\n",
              "      border: none;\n",
              "      border-radius: 50%;\n",
              "      cursor: pointer;\n",
              "      display: none;\n",
              "      fill: #1967D2;\n",
              "      height: 32px;\n",
              "      padding: 0 0 0 0;\n",
              "      width: 32px;\n",
              "    }\n",
              "\n",
              "    .colab-df-convert:hover {\n",
              "      background-color: #E2EBFA;\n",
              "      box-shadow: 0px 1px 2px rgba(60, 64, 67, 0.3), 0px 1px 3px 1px rgba(60, 64, 67, 0.15);\n",
              "      fill: #174EA6;\n",
              "    }\n",
              "\n",
              "    [theme=dark] .colab-df-convert {\n",
              "      background-color: #3B4455;\n",
              "      fill: #D2E3FC;\n",
              "    }\n",
              "\n",
              "    [theme=dark] .colab-df-convert:hover {\n",
              "      background-color: #434B5C;\n",
              "      box-shadow: 0px 1px 3px 1px rgba(0, 0, 0, 0.15);\n",
              "      filter: drop-shadow(0px 1px 2px rgba(0, 0, 0, 0.3));\n",
              "      fill: #FFFFFF;\n",
              "    }\n",
              "  </style>\n",
              "\n",
              "      <script>\n",
              "        const buttonEl =\n",
              "          document.querySelector('#df-e8e1f5ea-f2ab-48bb-a8eb-6fc2f01b7c33 button.colab-df-convert');\n",
              "        buttonEl.style.display =\n",
              "          google.colab.kernel.accessAllowed ? 'block' : 'none';\n",
              "\n",
              "        async function convertToInteractive(key) {\n",
              "          const element = document.querySelector('#df-e8e1f5ea-f2ab-48bb-a8eb-6fc2f01b7c33');\n",
              "          const dataTable =\n",
              "            await google.colab.kernel.invokeFunction('convertToInteractive',\n",
              "                                                     [key], {});\n",
              "          if (!dataTable) return;\n",
              "\n",
              "          const docLinkHtml = 'Like what you see? Visit the ' +\n",
              "            '<a target=\"_blank\" href=https://colab.research.google.com/notebooks/data_table.ipynb>data table notebook</a>'\n",
              "            + ' to learn more about interactive tables.';\n",
              "          element.innerHTML = '';\n",
              "          dataTable['output_type'] = 'display_data';\n",
              "          await google.colab.output.renderOutput(dataTable, element);\n",
              "          const docLink = document.createElement('div');\n",
              "          docLink.innerHTML = docLinkHtml;\n",
              "          element.appendChild(docLink);\n",
              "        }\n",
              "      </script>\n",
              "    </div>\n",
              "  </div>\n",
              "  "
            ]
          },
          "metadata": {},
          "execution_count": 178
        }
      ]
    },
    {
      "cell_type": "code",
      "source": [
        "df.isna().sum()"
      ],
      "metadata": {
        "colab": {
          "base_uri": "https://localhost:8080/"
        },
        "id": "D1XukPckOGK8",
        "outputId": "03cb6f68-4f70-4b06-ffad-5f50fdb512bd"
      },
      "execution_count": null,
      "outputs": [
        {
          "output_type": "execute_result",
          "data": {
            "text/plain": [
              "GENDER                   0\n",
              "AGE                      0\n",
              "smoking                  0\n",
              "YELLOW_FINGERS           0\n",
              "ANXIETY                  0\n",
              "CHRONIC DISEASE          0\n",
              "ALLERGY                  0\n",
              "WHEEZING                 0\n",
              "ALCOHOL CONSUMING        0\n",
              "COUGHING                 0\n",
              "SHORTNESS OF BREATH      0\n",
              "SWALLOWING DIFFICULTY    0\n",
              "CHESTPAIN                0\n",
              "LUNG_CANCER              0\n",
              "dtype: int64"
            ]
          },
          "metadata": {},
          "execution_count": 179
        }
      ]
    },
    {
      "cell_type": "code",
      "source": [
        "df.isna().all()"
      ],
      "metadata": {
        "colab": {
          "base_uri": "https://localhost:8080/"
        },
        "id": "cTpwLRUhOL87",
        "outputId": "c2d56476-bcfd-4e2d-f264-9f1d23913c87"
      },
      "execution_count": null,
      "outputs": [
        {
          "output_type": "execute_result",
          "data": {
            "text/plain": [
              "GENDER                   False\n",
              "AGE                      False\n",
              "smoking                  False\n",
              "YELLOW_FINGERS           False\n",
              "ANXIETY                  False\n",
              "CHRONIC DISEASE          False\n",
              "ALLERGY                  False\n",
              "WHEEZING                 False\n",
              "ALCOHOL CONSUMING        False\n",
              "COUGHING                 False\n",
              "SHORTNESS OF BREATH      False\n",
              "SWALLOWING DIFFICULTY    False\n",
              "CHESTPAIN                False\n",
              "LUNG_CANCER              False\n",
              "dtype: bool"
            ]
          },
          "metadata": {},
          "execution_count": 180
        }
      ]
    },
    {
      "cell_type": "code",
      "source": [
        "df.GENDER.value_counts()"
      ],
      "metadata": {
        "colab": {
          "base_uri": "https://localhost:8080/"
        },
        "id": "mYni3ZsDOM2H",
        "outputId": "93cecc74-1ab0-49cf-a7dd-e09b700bacb5"
      },
      "execution_count": null,
      "outputs": [
        {
          "output_type": "execute_result",
          "data": {
            "text/plain": [
              "M    162\n",
              "F    147\n",
              "Name: GENDER, dtype: int64"
            ]
          },
          "metadata": {},
          "execution_count": 181
        }
      ]
    },
    {
      "cell_type": "code",
      "source": [
        "df.smoking.value_counts()"
      ],
      "metadata": {
        "colab": {
          "base_uri": "https://localhost:8080/"
        },
        "id": "YQRyGqbeOdHc",
        "outputId": "b04e2e89-4456-4af7-e14f-ecd52023a8a1"
      },
      "execution_count": null,
      "outputs": [
        {
          "output_type": "execute_result",
          "data": {
            "text/plain": [
              "never smoked       115\n",
              "formerly smoked     76\n",
              "smokes              59\n",
              "Unknown             59\n",
              "Name: smoking, dtype: int64"
            ]
          },
          "metadata": {},
          "execution_count": 182
        }
      ]
    },
    {
      "cell_type": "code",
      "source": [
        "df.GENDER.value_counts().plot.bar()"
      ],
      "metadata": {
        "colab": {
          "base_uri": "https://localhost:8080/",
          "height": 281
        },
        "id": "hOQIujggOiyu",
        "outputId": "fa08221b-6f6b-4765-d714-4706e615f614"
      },
      "execution_count": null,
      "outputs": [
        {
          "output_type": "execute_result",
          "data": {
            "text/plain": [
              "<matplotlib.axes._subplots.AxesSubplot at 0x7efde48cb890>"
            ]
          },
          "metadata": {},
          "execution_count": 183
        },
        {
          "output_type": "display_data",
          "data": {
            "text/plain": [
              "<Figure size 432x288 with 1 Axes>"
            ],
            "image/png": "[encoded data removed]"
          },
          "metadata": {
            "needs_background": "light"
          }
        }
      ]
    },
    {
      "cell_type": "code",
      "source": [
        "df.smoking.value_counts().plot.barh()"
      ],
      "metadata": {
        "colab": {
          "base_uri": "https://localhost:8080/",
          "height": 282
        },
        "id": "aP2SyFwZO1dX",
        "outputId": "33adf778-04c6-4cb3-e457-5bcb43d9e48f"
      },
      "execution_count": null,
      "outputs": [
        {
          "output_type": "execute_result",
          "data": {
            "text/plain": [
              "<matplotlib.axes._subplots.AxesSubplot at 0x7efde8268dd0>"
            ]
          },
          "metadata": {},
          "execution_count": 184
        },
        {
          "output_type": "display_data",
          "data": {
            "text/plain": [
              "<Figure size 432x288 with 1 Axes>"
            ],
            "image/png": "[encoded data removed]"
          },
          "metadata": {
            "needs_background": "light"
          }
        }
      ]
    },
    {
      "cell_type": "code",
      "source": [
        "df.GENDER.value_counts().plot.area()"
      ],
      "metadata": {
        "colab": {
          "base_uri": "https://localhost:8080/",
          "height": 282
        },
        "id": "oMNH2jf7O6sR",
        "outputId": "a9da3d79-9e9c-4813-fd78-a7b1f45127ce"
      },
      "execution_count": null,
      "outputs": [
        {
          "output_type": "execute_result",
          "data": {
            "text/plain": [
              "<matplotlib.axes._subplots.AxesSubplot at 0x7efde4399110>"
            ]
          },
          "metadata": {},
          "execution_count": 185
        },
        {
          "output_type": "display_data",
          "data": {
            "text/plain": [
              "<Figure size 432x288 with 1 Axes>"
            ],
            "image/png": "[encoded data removed]"
          },
          "metadata": {
            "needs_background": "light"
          }
        }
      ]
    },
    {
      "cell_type": "code",
      "source": [
        "df.smoking.value_counts().plot.area()"
      ],
      "metadata": {
        "colab": {
          "base_uri": "https://localhost:8080/",
          "height": 285
        },
        "id": "mUtjBiqKPIw3",
        "outputId": "5f382943-05f6-4901-f1bb-8277e1ab7adf"
      },
      "execution_count": null,
      "outputs": [
        {
          "output_type": "execute_result",
          "data": {
            "text/plain": [
              "<matplotlib.axes._subplots.AxesSubplot at 0x7efde52df890>"
            ]
          },
          "metadata": {},
          "execution_count": 186
        },
        {
          "output_type": "display_data",
          "data": {
            "text/plain": [
              "<Figure size 432x288 with 1 Axes>"
            ],
            "image/png": "[encoded data removed]"
          },
          "metadata": {
            "needs_background": "light"
          }
        }
      ]
    },
    {
      "cell_type": "code",
      "source": [
        "#bar chart using matplotlib\n",
        "plt.figure(figsize=(5,5))\n",
        "plt.title('GENDER vs LUNG_CANCER')\n",
        "plt.xlabel(\"GENDER\")\n",
        "plt.ylabel(\"LUNG_CANCER\")\n",
        "plt.bar(df.GENDER,df.LUNG_CANCER)\n",
        "plt.show()"
      ],
      "metadata": {
        "colab": {
          "base_uri": "https://localhost:8080/",
          "height": 350
        },
        "id": "STmTmGZZPO-y",
        "outputId": "00fd1959-3c5b-4af5-8ad6-c7a7516774a6"
      },
      "execution_count": null,
      "outputs": [
        {
          "output_type": "display_data",
          "data": {
            "text/plain": [
              "<Figure size 360x360 with 1 Axes>"
            ],
            "image/png": "[encoded data removed]"
          },
          "metadata": {
            "needs_background": "light"
          }
        }
      ]
    },
    {
      "cell_type": "code",
      "source": [
        "#bar chart using matplotlib\n",
        "plt.figure(figsize=(5,5))\n",
        "sns.barplot(x = 'LUNG_CANCER',y = 'AGE',data = df,palette = \"Oranges\")\n",
        "plt.title('GENDER vs LUNG_CANCER')\n",
        "plt.xlabel(\"AGE\")\n",
        "plt.ylabel(\"LUNG_CANCER\")\n",
        "plt.show()"
      ],
      "metadata": {
        "colab": {
          "base_uri": "https://localhost:8080/",
          "height": 350
        },
        "id": "lzo2lMK2QYFW",
        "outputId": "f2abbafd-9197-4d61-db6c-c262f36b379e"
      },
      "execution_count": null,
      "outputs": [
        {
          "output_type": "display_data",
          "data": {
            "text/plain": [
              "<Figure size 360x360 with 1 Axes>"
            ],
            "image/png": "[encoded data removed]"
          },
          "metadata": {
            "needs_background": "light"
          }
        }
      ]
    },
    {
      "cell_type": "code",
      "source": [
        "sns.barplot(x = 'LUNG_CANCER',y = 'CHESTPAIN',data = df, palette = \"Greens\")\n",
        "plt.title('Comparative Ananlysis')\n",
        "plt.xlabel('LUNG_CANCER')\n",
        "plt.ylabel('CHESTPAIN')\n",
        "plt.show()"
      ],
      "metadata": {
        "colab": {
          "base_uri": "https://localhost:8080/",
          "height": 296
        },
        "id": "7rKexKaDS1us",
        "outputId": "3b02f313-2e7f-4ab4-815f-3b30a9a015ab"
      },
      "execution_count": null,
      "outputs": [
        {
          "output_type": "display_data",
          "data": {
            "text/plain": [
              "<Figure size 432x288 with 1 Axes>"
            ],
            "image/png": "[encoded data removed]"
          },
          "metadata": {
            "needs_background": "light"
          }
        }
      ]
    },
    {
      "cell_type": "code",
      "source": [
        "#histogram\n",
        "df.AGE.hist()"
      ],
      "metadata": {
        "colab": {
          "base_uri": "https://localhost:8080/",
          "height": 282
        },
        "id": "Wske9kUETk0n",
        "outputId": "f0791a28-6027-4d32-86d4-ede6073470fe"
      },
      "execution_count": null,
      "outputs": [
        {
          "output_type": "execute_result",
          "data": {
            "text/plain": [
              "<matplotlib.axes._subplots.AxesSubplot at 0x7efde477e750>"
            ]
          },
          "metadata": {},
          "execution_count": 190
        },
        {
          "output_type": "display_data",
          "data": {
            "text/plain": [
              "<Figure size 432x288 with 1 Axes>"
            ],
            "image/png": "[encoded data removed]"
          },
          "metadata": {
            "needs_background": "light"
          }
        }
      ]
    },
    {
      "cell_type": "code",
      "source": [
        "df.ANXIETY.hist()"
      ],
      "metadata": {
        "colab": {
          "base_uri": "https://localhost:8080/",
          "height": 283
        },
        "id": "no-yd_cQT2n3",
        "outputId": "0ffa2ab1-905d-444a-d075-509fb8142c55"
      },
      "execution_count": null,
      "outputs": [
        {
          "output_type": "execute_result",
          "data": {
            "text/plain": [
              "<matplotlib.axes._subplots.AxesSubplot at 0x7efde4fc8210>"
            ]
          },
          "metadata": {},
          "execution_count": 191
        },
        {
          "output_type": "display_data",
          "data": {
            "text/plain": [
              "<Figure size 432x288 with 1 Axes>"
            ],
            "image/png": "[encoded data removed]"
          },
          "metadata": {
            "needs_background": "light"
          }
        }
      ]
    },
    {
      "cell_type": "code",
      "source": [
        "sns.scatterplot(data=df.AGE)"
      ],
      "metadata": {
        "colab": {
          "base_uri": "https://localhost:8080/",
          "height": 285
        },
        "id": "0urFr6f1UZ93",
        "outputId": "806dc8f7-4e2c-4e0f-ae0a-ab87f3b1f78d"
      },
      "execution_count": null,
      "outputs": [
        {
          "output_type": "execute_result",
          "data": {
            "text/plain": [
              "<matplotlib.axes._subplots.AxesSubplot at 0x7efde4745ed0>"
            ]
          },
          "metadata": {},
          "execution_count": 192
        },
        {
          "output_type": "display_data",
          "data": {
            "text/plain": [
              "<Figure size 432x288 with 1 Axes>"
            ],
            "image/png": "[encoded data removed]"
          },
          "metadata": {
            "needs_background": "light"
          }
        }
      ]
    },
    {
      "cell_type": "code",
      "source": [
        "sns.scatterplot(x = df.AGE,y=df.ANXIETY,color='r')"
      ],
      "metadata": {
        "colab": {
          "base_uri": "https://localhost:8080/",
          "height": 296
        },
        "id": "Qadv3U7BUiPD",
        "outputId": "8d47b957-c5a7-4b05-8751-747d403d19f7"
      },
      "execution_count": null,
      "outputs": [
        {
          "output_type": "execute_result",
          "data": {
            "text/plain": [
              "<matplotlib.axes._subplots.AxesSubplot at 0x7efde5048c50>"
            ]
          },
          "metadata": {},
          "execution_count": 193
        },
        {
          "output_type": "display_data",
          "data": {
            "text/plain": [
              "<Figure size 432x288 with 1 Axes>"
            ],
            "image/png": "[encoded data removed]"
          },
          "metadata": {
            "needs_background": "light"
          }
        }
      ]
    },
    {
      "cell_type": "code",
      "source": [
        "sns.stripplot(df.smoking,df.AGE)"
      ],
      "metadata": {
        "colab": {
          "base_uri": "https://localhost:8080/",
          "height": 354
        },
        "id": "bDJ3qiKfVorY",
        "outputId": "c06c9908-b092-4a5d-d1aa-2f2273833df5"
      },
      "execution_count": null,
      "outputs": [
        {
          "output_type": "stream",
          "name": "stderr",
          "text": [
            "/usr/local/lib/python3.7/dist-packages/seaborn/_decorators.py:43: FutureWarning: Pass the following variables as keyword args: x, y. From version 0.12, the only valid positional argument will be `data`, and passing other arguments without an explicit keyword will result in an error or misinterpretation.\n",
            "  FutureWarning\n"
          ]
        },
        {
          "output_type": "execute_result",
          "data": {
            "text/plain": [
              "<matplotlib.axes._subplots.AxesSubplot at 0x7efde49ad350>"
            ]
          },
          "metadata": {},
          "execution_count": 194
        },
        {
          "output_type": "display_data",
          "data": {
            "text/plain": [
              "<Figure size 432x288 with 1 Axes>"
            ],
            "image/png": "[encoded data removed]"
          },
          "metadata": {
            "needs_background": "light"
          }
        }
      ]
    },
    {
      "cell_type": "code",
      "source": [
        "sns.stripplot(df.smoking,df.AGE).set_title(\"Jittering\")"
      ],
      "metadata": {
        "colab": {
          "base_uri": "https://localhost:8080/",
          "height": 367
        },
        "id": "qH7NBCJpVzVy",
        "outputId": "6550f74a-9fc3-49c0-ced1-88ec71f10a52"
      },
      "execution_count": null,
      "outputs": [
        {
          "output_type": "stream",
          "name": "stderr",
          "text": [
            "/usr/local/lib/python3.7/dist-packages/seaborn/_decorators.py:43: FutureWarning: Pass the following variables as keyword args: x, y. From version 0.12, the only valid positional argument will be `data`, and passing other arguments without an explicit keyword will result in an error or misinterpretation.\n",
            "  FutureWarning\n"
          ]
        },
        {
          "output_type": "execute_result",
          "data": {
            "text/plain": [
              "Text(0.5, 1.0, 'Jittering')"
            ]
          },
          "metadata": {},
          "execution_count": 195
        },
        {
          "output_type": "display_data",
          "data": {
            "text/plain": [
              "<Figure size 432x288 with 1 Axes>"
            ],
            "image/png": "[encoded data removed]"
          },
          "metadata": {
            "needs_background": "light"
          }
        }
      ]
    },
    {
      "cell_type": "code",
      "source": [
        "sns.swarmplot(df.smoking,df.AGE,data=df).set_title(\"SWARMPLOT\")"
      ],
      "metadata": {
        "colab": {
          "base_uri": "https://localhost:8080/",
          "height": 367
        },
        "id": "oYGmfvd8V_h-",
        "outputId": "4d72c907-d596-4c20-ec55-54da74c34749"
      },
      "execution_count": null,
      "outputs": [
        {
          "output_type": "stream",
          "name": "stderr",
          "text": [
            "/usr/local/lib/python3.7/dist-packages/seaborn/_decorators.py:43: FutureWarning: Pass the following variables as keyword args: x, y. From version 0.12, the only valid positional argument will be `data`, and passing other arguments without an explicit keyword will result in an error or misinterpretation.\n",
            "  FutureWarning\n"
          ]
        },
        {
          "output_type": "execute_result",
          "data": {
            "text/plain": [
              "Text(0.5, 1.0, 'SWARMPLOT')"
            ]
          },
          "metadata": {},
          "execution_count": 196
        },
        {
          "output_type": "display_data",
          "data": {
            "text/plain": [
              "<Figure size 432x288 with 1 Axes>"
            ],
            "image/png": "[encoded data removed]"
          },
          "metadata": {
            "needs_background": "light"
          }
        }
      ]
    },
    {
      "cell_type": "code",
      "source": [
        "#pointplot\n",
        "sns.pointplot(data=df,x='smoking',y='ALLERGY ')"
      ],
      "metadata": {
        "colab": {
          "base_uri": "https://localhost:8080/",
          "height": 299
        },
        "id": "KdHvJrijhXC3",
        "outputId": "3eec49e9-7a40-457a-aba1-5dc5371e74e0"
      },
      "execution_count": null,
      "outputs": [
        {
          "output_type": "execute_result",
          "data": {
            "text/plain": [
              "<matplotlib.axes._subplots.AxesSubplot at 0x7efde48b0650>"
            ]
          },
          "metadata": {},
          "execution_count": 197
        },
        {
          "output_type": "display_data",
          "data": {
            "text/plain": [
              "<Figure size 432x288 with 1 Axes>"
            ],
            "image/png": "[encoded data removed]"
          },
          "metadata": {
            "needs_background": "light"
          }
        }
      ]
    },
    {
      "cell_type": "code",
      "source": [
        "sns.pointplot(data=df,x='GENDER',y='CHESTPAIN')"
      ],
      "metadata": {
        "colab": {
          "base_uri": "https://localhost:8080/",
          "height": 296
        },
        "id": "4N03h-BQiNfY",
        "outputId": "d09f3899-a317-4804-881c-120add89680e"
      },
      "execution_count": null,
      "outputs": [
        {
          "output_type": "execute_result",
          "data": {
            "text/plain": [
              "<matplotlib.axes._subplots.AxesSubplot at 0x7efde464b8d0>"
            ]
          },
          "metadata": {},
          "execution_count": 198
        },
        {
          "output_type": "display_data",
          "data": {
            "text/plain": [
              "<Figure size 432x288 with 1 Axes>"
            ],
            "image/png": "[encoded data removed]"
          },
          "metadata": {
            "needs_background": "light"
          }
        }
      ]
    },
    {
      "cell_type": "code",
      "source": [
        "#pairplot\n",
        "df2=df[[\"AGE\",\"YELLOW_FINGERS\",\"ANXIETY\",\"CHRONIC DISEASE\",\"ALLERGY \"]]\n",
        "plt.figure()\n",
        "sns.pairplot(df2)\n",
        "plt.show()"
      ],
      "metadata": {
        "colab": {
          "base_uri": "https://localhost:8080/",
          "height": 923
        },
        "id": "JKDR0B7micku",
        "outputId": "7aa29024-7f47-4d25-da82-bbd7b8b8d618"
      },
      "execution_count": null,
      "outputs": [
        {
          "output_type": "display_data",
          "data": {
            "text/plain": [
              "<Figure size 432x288 with 0 Axes>"
            ]
          },
          "metadata": {}
        },
        {
          "output_type": "display_data",
          "data": {
            "text/plain": [
              "<Figure size 900x900 with 30 Axes>"
            ],
            "image/png": "[encoded data removed]"
          },
          "metadata": {
            "needs_background": "light"
          }
        }
      ]
    },
    {
      "cell_type": "code",
      "source": [
        "#heatmap\n",
        "sns.heatmap(df.corr())"
      ],
      "metadata": {
        "colab": {
          "base_uri": "https://localhost:8080/",
          "height": 404
        },
        "id": "W6rPCWUcjN5t",
        "outputId": "d194c2e2-6c1b-4bef-8cf8-d9ac6e51af1c"
      },
      "execution_count": null,
      "outputs": [
        {
          "output_type": "execute_result",
          "data": {
            "text/plain": [
              "<matplotlib.axes._subplots.AxesSubplot at 0x7efde37b3350>"
            ]
          },
          "metadata": {},
          "execution_count": 200
        },
        {
          "output_type": "display_data",
          "data": {
            "text/plain": [
              "<Figure size 432x288 with 2 Axes>"
            ],
            "image/png": "[encoded data removed]"
          },
          "metadata": {
            "needs_background": "light"
          }
        }
      ]
    },
    {
      "cell_type": "code",
      "source": [
        "plt.figure()\n",
        "sns.heatmap(df2.corr(), annot=True)\n",
        "plt.show()"
      ],
      "metadata": {
        "colab": {
          "base_uri": "https://localhost:8080/",
          "height": 351
        },
        "id": "3m62QJAOjaGA",
        "outputId": "9d585694-8896-41be-c7fe-87bf2436245f"
      },
      "execution_count": null,
      "outputs": [
        {
          "output_type": "display_data",
          "data": {
            "text/plain": [
              "<Figure size 432x288 with 2 Axes>"
            ],
            "image/png": "[encoded data removed]"
          },
          "metadata": {
            "needs_background": "light"
          }
        }
      ]
    },
    {
      "cell_type": "code",
      "source": [
        "#lineplot\n",
        "sns.lineplot(data=df.AGE)"
      ],
      "metadata": {
        "colab": {
          "base_uri": "https://localhost:8080/",
          "height": 285
        },
        "id": "ZWxkxYuojfZl",
        "outputId": "77b227d6-cd9c-41c6-8e5a-3731749d3c35"
      },
      "execution_count": null,
      "outputs": [
        {
          "output_type": "execute_result",
          "data": {
            "text/plain": [
              "<matplotlib.axes._subplots.AxesSubplot at 0x7efde36a1310>"
            ]
          },
          "metadata": {},
          "execution_count": 202
        },
        {
          "output_type": "display_data",
          "data": {
            "text/plain": [
              "<Figure size 432x288 with 1 Axes>"
            ],
            "image/png": "[encoded data removed]"
          },
          "metadata": {
            "needs_background": "light"
          }
        }
      ]
    },
    {
      "cell_type": "code",
      "source": [
        "df.CHESTPAIN.plot.kde(color=\"red\")"
      ],
      "metadata": {
        "colab": {
          "base_uri": "https://localhost:8080/",
          "height": 282
        },
        "id": "O5KnWNqijwqE",
        "outputId": "701a66ac-461c-40cd-dc92-dbb429e67dc0"
      },
      "execution_count": null,
      "outputs": [
        {
          "output_type": "execute_result",
          "data": {
            "text/plain": [
              "<matplotlib.axes._subplots.AxesSubplot at 0x7efde35b4110>"
            ]
          },
          "metadata": {},
          "execution_count": 204
        },
        {
          "output_type": "display_data",
          "data": {
            "text/plain": [
              "<Figure size 432x288 with 1 Axes>"
            ],
            "image/png": "[encoded data removed]"
          },
          "metadata": {
            "needs_background": "light"
          }
        }
      ]
    },
    {
      "cell_type": "code",
      "source": [
        "#violin plot(it shows several quantitative data across one or more categorical variables)\n",
        "sns.violinplot(data=df.AGE)"
      ],
      "metadata": {
        "colab": {
          "base_uri": "https://localhost:8080/",
          "height": 282
        },
        "id": "qd8dvqkEkrr5",
        "outputId": "4dcd6cb8-25dd-4da8-d430-716bf450ef6f"
      },
      "execution_count": null,
      "outputs": [
        {
          "output_type": "execute_result",
          "data": {
            "text/plain": [
              "<matplotlib.axes._subplots.AxesSubplot at 0x7efde35640d0>"
            ]
          },
          "metadata": {},
          "execution_count": 205
        },
        {
          "output_type": "display_data",
          "data": {
            "text/plain": [
              "<Figure size 432x288 with 1 Axes>"
            ],
            "image/png": "[encoded data removed]"
          },
          "metadata": {
            "needs_background": "light"
          }
        }
      ]
    },
    {
      "cell_type": "code",
      "source": [],
      "metadata": {
        "id": "lZhewn3fk14J"
      },
      "execution_count": null,
      "outputs": []
    }
  ]
}